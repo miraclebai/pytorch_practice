{
 "cells": [
  {
   "cell_type": "markdown",
   "id": "1a209ad5-b86e-4c7e-94c6-4891f03be7b1",
   "metadata": {},
   "source": [
    "## Basics of Pytorch"
   ]
  },
  {
   "cell_type": "markdown",
   "id": "19babf22-05bd-47d7-afd2-18f13251664b",
   "metadata": {},
   "source": [
    "### Matrices\n",
    "<p>\n",
    "In pytorch, matrix(array) is called tensors.<br>\n",
    "3*3 matrix koy. This is 3x3 tensor.<br>\n",
    "Lets look at array example with numpy that we already know.<br>\n",
    "We create numpy array with np.numpy() method<br>\n",
    "Type(): type of the array. In this example it is numpy<br>\n",
    "np.shape(): shape of the array. Row x Column<br>\n",
    "</p>"
   ]
  },
  {
   "cell_type": "code",
   "execution_count": 7,
   "id": "6f946cfd-a146-4559-9f48-efb92cf41a2b",
   "metadata": {},
   "outputs": [
    {
     "name": "stdout",
     "output_type": "stream",
     "text": [
      "Array Type: <class 'numpy.ndarray'>\n",
      "Array Shape: (2, 3)\n",
      "[[1 2 3]\n",
      " [4 5 6]]\n"
     ]
    }
   ],
   "source": [
    "# import numpy library\n",
    "import numpy as np\n",
    "\n",
    "# numpy array\n",
    "array = [[1,2,3],[4,5,6]]\n",
    "first_array = np.array(array) # 2x3 array\n",
    "print(\"Array Type: {}\".format(type(first_array))) # type\n",
    "print(\"Array Shape: {}\".format(np.shape(first_array))) # shape\n",
    "print(first_array)"
   ]
  },
  {
   "cell_type": "markdown",
   "id": "af98352b-84af-48db-b91e-d2ccd4a2fd41",
   "metadata": {},
   "source": [
    "<p>\n",
    "We looked at numpy array.<br>\n",
    "Now examine how we implement tensor(pytorch array)<br>\n",
    "import pytorch library with import torch<br>\n",
    "We create tensor with torch.Tensor() method<br>\n",
    "type: type of the array. In this example it is tensor<br>\n",
    "shape: shape of the array. Row x Column<br>\n",
    "</p>"
   ]
  },
  {
   "cell_type": "code",
   "execution_count": 9,
   "id": "31830c14-9e90-434b-bf56-74bd5e76bf37",
   "metadata": {},
   "outputs": [
    {
     "name": "stdout",
     "output_type": "stream",
     "text": [
      "Array Type: <built-in method type of Tensor object at 0x1695c3e30>\n",
      "Array Shape: torch.Size([2, 3])\n",
      "tensor([[1., 2., 3.],\n",
      "        [4., 5., 6.]])\n"
     ]
    }
   ],
   "source": [
    "import torch\n",
    "tensor = torch.Tensor(array)\n",
    "print(\"Array Type: {}\".format(tensor.type)) # type\n",
    "print(\"Array Shape: {}\".format(tensor.shape)) # shape\n",
    "print(tensor)"
   ]
  },
  {
   "cell_type": "markdown",
   "id": "3c432f93-be71-4346-a3b8-b74a5a18c0f7",
   "metadata": {},
   "source": [
    "<p>\n",
    "In order to learn, compare numpy and tensor<br>\n",
    "np.ones() = torch.ones()<br>\n",
    "np.random.rand() = torch.rand()<br>\n",
    "</p>"
   ]
  },
  {
   "cell_type": "code",
   "execution_count": 11,
   "id": "2fc12b01-a9b5-4b54-b0dd-24b8fcd392c6",
   "metadata": {},
   "outputs": [
    {
     "name": "stdout",
     "output_type": "stream",
     "text": [
      "Numpy  [[1. 1. 1.]\n",
      " [1. 1. 1.]]\n",
      "tensor([[1., 1., 1.],\n",
      "        [1., 1., 1.]])\n"
     ]
    }
   ],
   "source": [
    "print(\"Numpy \", np.ones((2, 3)))\n",
    "print(torch.ones((2, 3)))"
   ]
  },
  {
   "cell_type": "code",
   "execution_count": 12,
   "id": "f2d59855-e9b5-479c-8dca-12b7536d10cc",
   "metadata": {},
   "outputs": [
    {
     "name": "stdout",
     "output_type": "stream",
     "text": [
      "Numpy  [[0.63609472 0.32639981 0.01405204]\n",
      " [0.40286452 0.47135275 0.7883194 ]]\n",
      "tensor([[0.5749, 0.6976, 0.1042],\n",
      "        [0.1731, 0.5395, 0.1085]])\n"
     ]
    }
   ],
   "source": [
    "print(\"Numpy \", np.random.rand(2, 3))\n",
    "print(torch.rand(2, 3))"
   ]
  },
  {
   "cell_type": "markdown",
   "id": "50823b84-6d7a-4ea5-b5a3-09ec22a13a2b",
   "metadata": {},
   "source": [
    "<p>\n",
    "Lets look at conversion between tensor and numpy arrays.<br>\n",
    "torch.from_numpy(): from numpy to tensor<br>\n",
    "numpy(): from tensor to numpy<br>\n",
    "</p>"
   ]
  },
  {
   "cell_type": "code",
   "execution_count": 14,
   "id": "7ef0813a-5b25-40f3-9fe7-d43c6c1e0321",
   "metadata": {},
   "outputs": [
    {
     "name": "stdout",
     "output_type": "stream",
     "text": [
      "<class 'numpy.ndarray'>[[0.19130587 0.67703615 0.60301139]\n",
      " [0.73180572 0.45110451 0.2116756 ]]\n",
      "\n",
      "tensor([[0.1913, 0.6770, 0.6030],\n",
      "        [0.7318, 0.4511, 0.2117]], dtype=torch.float64)\n",
      "<class 'numpy.ndarray'>[[0.19130587 0.67703615 0.60301139]\n",
      " [0.73180572 0.45110451 0.2116756 ]]\n",
      "\n"
     ]
    }
   ],
   "source": [
    "# random numpy array\n",
    "array = np.random.rand(2, 3)\n",
    "print(\"{}{}\\n\".format(type(array), array))\n",
    "\n",
    "# from numpy to tensor\n",
    "array_to_tensor = torch.from_numpy(array)\n",
    "print(array_to_tensor)\n",
    "\n",
    "#from tensor to numpy\n",
    "tensor_to_numpy = array_to_tensor.numpy()\n",
    "print(\"{}{}\\n\".format(type(tensor_to_numpy),tensor_to_numpy))"
   ]
  },
  {
   "cell_type": "markdown",
   "id": "98617763-e4cd-421a-8040-1c868eb22e5d",
   "metadata": {},
   "source": [
    "### Basic Math with Pytorch\n",
    "<p>\n",
    "Resize: view()<br>\n",
    "a and b are tensor.<br>\n",
    "Addition: torch.add(a,b) = a + b<br>\n",
    "Subtraction: a.sub(b) = a - b<br>\n",
    "Element wise multiplication: torch.mul(a,b) = a * b<br>\n",
    "Element wise division: torch.div(a,b) = a / b<br>\n",
    "Mean: a.mean()<br>\n",
    "Standart Deviation (std): a.std()<br>\n",
    "</p>"
   ]
  },
  {
   "cell_type": "code",
   "execution_count": 16,
   "id": "73589bc7-7101-4e65-90dc-e8948320d63b",
   "metadata": {},
   "outputs": [
    {
     "name": "stdout",
     "output_type": "stream",
     "text": [
      "tensor([[0.2743, 0.4973, 0.7787],\n",
      "        [0.1943, 0.9557, 0.3487]])\n",
      "Resize to (6, 1)\n",
      " tensor([[0.2743],\n",
      "        [0.4973],\n",
      "        [0.7787],\n",
      "        [0.1943],\n",
      "        [0.9557],\n",
      "        [0.3487]])\n",
      "Add:  tensor([[0.5487, 0.9945, 1.5573],\n",
      "        [0.3885, 1.9115, 0.6974]])\n",
      "Sub:  tensor([[1.0000, 1.0000, 1.0000],\n",
      "        [1.0000, 1.0000, 1.0000]])\n",
      "Mul:  tensor([[0.0753, 0.2473, 0.6063],\n",
      "        [0.0377, 0.9134, 0.1216]])\n",
      "Div:  tensor([[1., 1., 1.],\n",
      "        [1., 1., 1.]])\n",
      "Mean:  tensor(0.5082)\n",
      "Std:  tensor(0.3008)\n"
     ]
    }
   ],
   "source": [
    "# create a tensor\n",
    "tensor = torch.rand(2, 3)\n",
    "print(tensor)\n",
    "\n",
    "# Resize\n",
    "print(\"Resize to (6, 1)\\n\", tensor.view(6, 1))\n",
    "\n",
    "# Add\n",
    "print(\"Add: \", torch.add(tensor, tensor))\n",
    "\n",
    "# Sub\n",
    "print(\"Sub: \", torch.sub(tensor + 1, tensor))\n",
    "\n",
    "# Mul\n",
    "print(\"Mul: \", torch.mul(tensor, tensor))\n",
    "\n",
    "# Div\n",
    "print(\"Div: \", torch.div(tensor, tensor))\n",
    "\n",
    "# Mean\n",
    "print(\"Mean: \", torch.mean(tensor))\n",
    "\n",
    "# Std\n",
    "print(\"Std: \", torch.std(tensor))"
   ]
  },
  {
   "cell_type": "markdown",
   "id": "65106563-1c9e-4061-bf4b-e9491439c240",
   "metadata": {},
   "source": [
    "### Variables\n",
    "<p>\n",
    "It accumulates gradients.<br>\n",
    "Difference between variables and tensor is variable accumulates gradients.<br>\n",
    "We can make math operations with variables, too.<br>\n",
    "In order to make backward propagation we need variables</p>"
   ]
  },
  {
   "cell_type": "code",
   "execution_count": 18,
   "id": "f0a59ddc-9838-404a-9116-b80e551ba858",
   "metadata": {},
   "outputs": [
    {
     "data": {
      "text/plain": [
       "tensor([1., 1., 1.], requires_grad=True)"
      ]
     },
     "execution_count": 18,
     "metadata": {},
     "output_type": "execute_result"
    }
   ],
   "source": [
    "from torch.autograd import Variable\n",
    "\n",
    "# define Variable\n",
    "var = Variable(torch.ones(3), requires_grad = True)\n",
    "var"
   ]
  },
  {
   "cell_type": "markdown",
   "id": "648b61fe-8d02-415a-a2a6-b8509c89f040",
   "metadata": {},
   "source": [
    "<p>\n",
    "Assume we have equation y = x^2<br>\n",
    "Define x = [2,4] variable<br>\n",
    "After calculation we find that y = [4,16] (y = x^2)<br>\n",
    "Recap o equation is that o = (1/2)sum(y) = (1/2)sum(x^2)<br>\n",
    "deriavative of o = x<br>\n",
    "Result is equal to x so gradients are [2,4]<br>\n",
    "</p>"
   ]
  },
  {
   "cell_type": "code",
   "execution_count": 20,
   "id": "835d0187-47e5-4072-a4bd-e1fee66a1861",
   "metadata": {},
   "outputs": [
    {
     "name": "stdout",
     "output_type": "stream",
     "text": [
      "y:  tensor([ 4., 16.], dtype=torch.float64, grad_fn=<PowBackward0>)\n",
      "o:  tensor(10., dtype=torch.float64, grad_fn=<MulBackward0>)\n",
      "gradients:  tensor([2., 4.], dtype=torch.float64)\n"
     ]
    }
   ],
   "source": [
    "x = Variable(torch.tensor((2, 4), dtype = float), requires_grad = True)\n",
    "y = x**2\n",
    "print(\"y: \", y)\n",
    "o = (1/2)*sum(y)\n",
    "print(\"o: \", o)\n",
    "o.backward()\n",
    "print(\"gradients: \", x.grad)"
   ]
  },
  {
   "cell_type": "markdown",
   "id": "ccd1ac0a-00be-43d7-97ec-4b6482ca6b51",
   "metadata": {},
   "source": [
    "## Linear Regression"
   ]
  },
  {
   "cell_type": "markdown",
   "id": "865ab22a-f979-44f9-90ec-bd671b3d88a7",
   "metadata": {},
   "source": [
    "<p>\n",
    "Detailed linear regression tutorial is in my machine learning tutorial in part \"Regression\". I will not explain it in here detailed.<br>\n",
    "y = Ax + B.<br>\n",
    "A = slope of curve<br>\n",
    "B = bias (point that intersect y-axis)<br>\n",
    "For example, we have car company. If the car price is low, we sell more car. If the car price is high, we sell less car. This is the fact that we know and we have data set about this fact.<br>\n",
    "The question is that what will be number of car sell if the car price is 100.<br>\n",
    "</p>"
   ]
  },
  {
   "cell_type": "code",
   "execution_count": 50,
   "id": "99030625-983f-42c9-b759-a46c903a2e14",
   "metadata": {},
   "outputs": [],
   "source": [
    "car_prices_array = [3,4,5,6,7,8,9]\n",
    "car_price_np = np.array(car_prices_array,dtype=np.float32)\n",
    "car_price_np = car_price_np.reshape(-1,1)\n",
    "car_price_tensor = Variable(torch.from_numpy(car_price_np))\n",
    "\n",
    "# lets define number of car sell\n",
    "number_of_car_sell_array = [ 7.5, 7, 6.5, 6.0, 5.5, 5.0, 4.5]\n",
    "number_of_car_sell_np = np.array(number_of_car_sell_array, dtype =np.float32)\n",
    "number_of_car_sell_tensor = Variable(torch.from_numpy(number_of_car_sell_np.reshape(-1, 1)))"
   ]
  },
  {
   "cell_type": "code",
   "execution_count": 45,
   "id": "48d076fc-c37d-439c-80b2-51a419eb1f4c",
   "metadata": {},
   "outputs": [
    {
     "data": {
      "image/png": "[encoded data removed]",
      "text/plain": [
       "<Figure size 700x500 with 1 Axes>"
      ]
     },
     "metadata": {},
     "output_type": "display_data"
    }
   ],
   "source": [
    "import matplotlib.pyplot as plt\n",
    "plt.figure(figsize = (7, 5))\n",
    "plt.scatter(x = car_prices_array, y = number_of_car_sell_array) \n",
    "plt.xlabel(\"The price of cars\")\n",
    "plt.ylabel(\"The sell number of cars\")\n",
    "plt.show()"
   ]
  },
  {
   "cell_type": "markdown",
   "id": "2c4e15e2-5c89-4ace-ae61-580880855d04",
   "metadata": {},
   "source": [
    "<p>\n",
    "Steps of Linear Regression<br>\n",
    "create LinearRegression class<br>\n",
    "define model from this LinearRegression class<br>\n",
    "MSE: Mean squared error<br>\n",
    "Optimization (SGD:stochastic gradient descent)<br>\n",
    "Backpropagation<br>\n",
    "Prediction<br>\n",
    "</p>"
   ]
  },
  {
   "cell_type": "code",
   "execution_count": 102,
   "id": "0b841f05-7df1-4cc6-a860-72c3e36ee973",
   "metadata": {},
   "outputs": [
    {
     "data": {
      "image/png": "[encoded data removed]",
      "text/plain": [
       "<Figure size 640x480 with 1 Axes>"
      ]
     },
     "metadata": {},
     "output_type": "display_data"
    },
    {
     "data": {
      "image/png": "[encoded data removed]",
      "text/plain": [
       "<Figure size 640x480 with 1 Axes>"
      ]
     },
     "metadata": {},
     "output_type": "display_data"
    },
    {
     "name": "stdout",
     "output_type": "stream",
     "text": [
      "when price is 11, number is  tensor([3.6135])\n"
     ]
    }
   ],
   "source": [
    "import torch\n",
    "from torch.autograd import Variable\n",
    "import torch.nn as nn\n",
    "import matplotlib.pyplot as plt\n",
    "\n",
    "\n",
    "# create LinearRegression class\n",
    "class LinearRegression(nn.Module):\n",
    "    def __init__(self, in_dim, out_dim):\n",
    "        super().__init__()\n",
    "        self.model = nn.Sequential(nn.Linear(in_dim, out_dim))\n",
    "\n",
    "    def forward(self, x):\n",
    "        return self.model(x)\n",
    "\n",
    "# define model from this LinearRegression class\n",
    "in_dim = 1\n",
    "out_dim = 1\n",
    "mymodel = LinearRegression(in_dim = in_dim, out_dim = out_dim)\n",
    "\n",
    "# MSE: Mean squared error\n",
    "mse = nn.MSELoss()\n",
    "\n",
    "# Optimization (SGD:stochastic gradient descent)\n",
    "lr = 0.02\n",
    "optimizer = torch.optim.SGD(mymodel.parameters(), lr = lr)\n",
    "\n",
    "# Training\n",
    "loss_list = []\n",
    "for epoch in range(1001):\n",
    "    optimizer.zero_grad()\n",
    "    output = mymodel(car_price_tensor)\n",
    "    loss = mse(output, number_of_car_sell_tensor)\n",
    "    loss.backward()\n",
    "    optimizer.step()\n",
    "    loss_list.append(loss.data)\n",
    "\n",
    "\n",
    "plt.plot(range(1001), loss_list)\n",
    "plt.xlabel(\"Epoch\")\n",
    "plt.ylabel(\"Loss\")\n",
    "plt.show()\n",
    "\n",
    "# Prediction\n",
    "predicted = mymodel(car_price_tensor).data.numpy()\n",
    "plt.scatter(car_prices_array, predicted, label = \"Predicted\", color = \"red\")\n",
    "plt.scatter(car_prices_array, number_of_car_sell_array, label = \"Real\", color = \"blue\")\n",
    "plt.legend()\n",
    "plt.xlabel(\"The price\")\n",
    "plt.ylabel(\"The number\")\n",
    "plt.show()\n",
    "\n",
    "x = np.array([11], dtype = np.float32)\n",
    "y = torch.from_numpy(x)\n",
    "print(\"when price is 11, number is \",mymodel(y).data)"
   ]
  },
  {
   "cell_type": "code",
   "execution_count": null,
   "id": "3b0db4f7-ef03-42af-aa8d-f61ad4222155",
   "metadata": {},
   "outputs": [],
   "source": []
  }
 ],
 "metadata": {
  "kernelspec": {
   "display_name": "Python 3 (ipykernel)",
   "language": "python",
   "name": "python3"
  },
  "language_info": {
   "codemirror_mode": {
    "name": "ipython",
    "version": 3
   },
   "file_extension": ".py",
   "mimetype": "text/x-python",
   "name": "python",
   "nbconvert_exporter": "python",
   "pygments_lexer": "ipython3",
   "version": "3.12.4"
  }
 },
 "nbformat": 4,
 "nbformat_minor": 5
}
