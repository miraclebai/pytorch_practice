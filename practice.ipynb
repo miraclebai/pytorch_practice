{
 "cells": [
  {
   "cell_type": "code",
   "execution_count": 10,
   "id": "d1d3a236-1cd9-4831-8c43-b8e5f14bcd60",
   "metadata": {},
   "outputs": [
    {
     "data": {
      "text/plain": [
       "'/Users/baijingyuan/jupyterPj/pytorch_practice'"
      ]
     },
     "execution_count": 10,
     "metadata": {},
     "output_type": "execute_result"
    }
   ],
   "source": [
    "pwd"
   ]
  },
  {
   "cell_type": "markdown",
   "id": "01b552ba-bee2-4712-9fc3-f650c78e91b9",
   "metadata": {},
   "source": [
    "import torch"
   ]
  },
  {
   "cell_type": "code",
   "execution_count": 13,
   "id": "3de41d72-766d-4586-8a40-b37a3e8d96ee",
   "metadata": {},
   "outputs": [
    {
     "data": {
      "text/plain": [
       "tensor([[0., 0., 0., 0., 0.],\n",
       "        [0., 0., 0., 0., 0.],\n",
       "        [0., 0., 0., 0., 0.]])"
      ]
     },
     "execution_count": 13,
     "metadata": {},
     "output_type": "execute_result"
    }
   ],
   "source": [
    "torch.empty(3,5)"
   ]
  },
  {
   "cell_type": "code",
   "execution_count": 15,
   "id": "465db6fa-ac11-4cf3-a652-0ca4cb6aab24",
   "metadata": {},
   "outputs": [],
   "source": [
    "x = torch.tensor([5.5, 3])"
   ]
  },
  {
   "cell_type": "code",
   "execution_count": 17,
   "id": "352bb956-2eba-4730-94e8-ccb010518946",
   "metadata": {},
   "outputs": [
    {
     "name": "stdout",
     "output_type": "stream",
     "text": [
      "tensor([5.5000, 3.0000])\n"
     ]
    }
   ],
   "source": [
    "print(x)"
   ]
  },
  {
   "cell_type": "code",
   "execution_count": 22,
   "id": "58b30dd2-e590-4547-af6b-d180e6a4b132",
   "metadata": {},
   "outputs": [],
   "source": [
    "x = torch.rand(5,3)"
   ]
  },
  {
   "cell_type": "code",
   "execution_count": 24,
   "id": "9fdc55f1-7a67-41c4-87ae-1f289f3ae233",
   "metadata": {},
   "outputs": [
    {
     "name": "stdout",
     "output_type": "stream",
     "text": [
      "tensor([[0.3022, 0.9977, 0.3151],\n",
      "        [0.3147, 0.3222, 0.7463],\n",
      "        [0.1571, 0.3295, 0.3977],\n",
      "        [0.6116, 0.7345, 0.9638],\n",
      "        [0.1245, 0.7521, 0.3267]])\n"
     ]
    }
   ],
   "source": [
    "print(x)"
   ]
  },
  {
   "cell_type": "code",
   "execution_count": 61,
   "id": "4b7c18eb-5262-4df4-8c2c-2029b860e1cb",
   "metadata": {},
   "outputs": [
    {
     "name": "stdout",
     "output_type": "stream",
     "text": [
      "tensor([[0.7988, 0.4484, 0.4187],\n",
      "        [0.4488, 0.2201, 0.7110],\n",
      "        [0.1796, 0.9812, 0.5387],\n",
      "        [0.5059, 0.1817, 0.4603],\n",
      "        [0.5799, 0.3885, 0.6683]]) tensor([[0.9356, 0.7896, 0.9591],\n",
      "        [0.5162, 0.5644, 0.1231],\n",
      "        [0.3896, 0.6357, 0.9558],\n",
      "        [0.6159, 0.1719, 0.3662],\n",
      "        [0.7664, 0.5161, 0.4988]]) tensor([[1.7344, 1.2380, 1.3778],\n",
      "        [0.9650, 0.7845, 0.8340],\n",
      "        [0.5691, 1.6169, 1.4945],\n",
      "        [1.1217, 0.3536, 0.8265],\n",
      "        [1.3463, 0.9046, 1.1671]])\n"
     ]
    }
   ],
   "source": [
    "result = torch.empty(5, 3)\n",
    "x = torch.rand(5, 3)\n",
    "y = torch.rand(5, 3)\n",
    "result = torch.add(x, y)\n",
    "print(x, y, result)"
   ]
  },
  {
   "cell_type": "code",
   "execution_count": 62,
   "id": "673d8ee4-797d-4659-a562-f898eb1d38ea",
   "metadata": {},
   "outputs": [
    {
     "data": {
      "text/plain": [
       "torch.Size([5, 3])"
      ]
     },
     "execution_count": 62,
     "metadata": {},
     "output_type": "execute_result"
    }
   ],
   "source": [
    "result.size()"
   ]
  },
  {
   "cell_type": "code",
   "execution_count": 63,
   "id": "8fbfb5d3-0e38-4580-99a4-a180c0e9517f",
   "metadata": {},
   "outputs": [
    {
     "data": {
      "text/plain": [
       "torch.Size([5, 3])"
      ]
     },
     "execution_count": 63,
     "metadata": {},
     "output_type": "execute_result"
    }
   ],
   "source": [
    "y.size()"
   ]
  },
  {
   "cell_type": "code",
   "execution_count": 75,
   "id": "3fbe2be8-ced2-4697-aaba-9c515ca86ba1",
   "metadata": {},
   "outputs": [
    {
     "data": {
      "text/plain": [
       "tensor([5, 3])"
      ]
     },
     "execution_count": 75,
     "metadata": {},
     "output_type": "execute_result"
    }
   ],
   "source": [
    "torch.Tensor([5, 3])\n",
    "torch.tensor([5, 3])"
   ]
  },
  {
   "cell_type": "code",
   "execution_count": 81,
   "id": "edcc9951-8a7c-46f8-b8a6-841d19c38aa9",
   "metadata": {},
   "outputs": [],
   "source": [
    "y = torch.randn(5, 3) \n",
    "x = torch.rand(5, 3)"
   ]
  },
  {
   "cell_type": "code",
   "execution_count": 83,
   "id": "d0ff71e0-29d7-40af-a791-34ec0945e5c4",
   "metadata": {},
   "outputs": [
    {
     "name": "stdout",
     "output_type": "stream",
     "text": [
      "tensor([[0.8220, 0.0360, 0.8679],\n",
      "        [0.5416, 0.7822, 0.0012],\n",
      "        [0.0966, 0.8848, 0.9145],\n",
      "        [0.9756, 0.1376, 0.3397],\n",
      "        [0.3591, 0.2048, 0.8002]])\n"
     ]
    }
   ],
   "source": [
    "print(x)"
   ]
  },
  {
   "cell_type": "code",
   "execution_count": 85,
   "id": "7a26c70d-9480-4891-8290-b1c2e8ff3e7f",
   "metadata": {},
   "outputs": [
    {
     "name": "stdout",
     "output_type": "stream",
     "text": [
      "tensor([[-0.5581, -0.1057,  0.4288],\n",
      "        [ 0.9190,  1.6343,  0.0696],\n",
      "        [ 1.2717,  0.9356, -1.0167],\n",
      "        [-0.4650,  0.4329,  0.7812],\n",
      "        [ 0.9244, -0.9421, -0.0802]])\n"
     ]
    }
   ],
   "source": [
    "print(y)"
   ]
  },
  {
   "cell_type": "code",
   "execution_count": 6,
   "id": "7ddcf4e6-12df-4775-9aae-815c8864a5d3",
   "metadata": {},
   "outputs": [],
   "source": [
    "import torch\n",
    "x = torch.FloatTensor([5, 3])\n",
    "y = torch.IntTensor([5.0, 3.0])"
   ]
  },
  {
   "cell_type": "code",
   "execution_count": 9,
   "id": "62da05fe-0f22-4143-897b-0c4cd25cc890",
   "metadata": {},
   "outputs": [
    {
     "name": "stdout",
     "output_type": "stream",
     "text": [
      "tensor([5., 3.])\n"
     ]
    }
   ],
   "source": [
    "print(x)"
   ]
  },
  {
   "cell_type": "code",
   "execution_count": 11,
   "id": "3ebdfde9-1db7-411c-ba70-88fb65a41672",
   "metadata": {},
   "outputs": [
    {
     "name": "stdout",
     "output_type": "stream",
     "text": [
      "tensor([5, 3], dtype=torch.int32)\n"
     ]
    }
   ],
   "source": [
    "print(y)"
   ]
  },
  {
   "cell_type": "code",
   "execution_count": 13,
   "id": "2dfda30e-ab38-4264-a80d-2b33e42a4c55",
   "metadata": {},
   "outputs": [],
   "source": [
    "a = torch.randn(5,3)"
   ]
  },
  {
   "cell_type": "code",
   "execution_count": 15,
   "id": "61d39c0e-85a9-43a0-8c4e-993eafef9461",
   "metadata": {},
   "outputs": [
    {
     "name": "stdout",
     "output_type": "stream",
     "text": [
      "tensor([[ 0.9500, -1.4548, -1.9308],\n",
      "        [ 0.0068, -0.6253, -0.2284],\n",
      "        [ 0.8488, -0.3014, -1.3392],\n",
      "        [-1.1099,  0.3267,  1.3600],\n",
      "        [-0.5708,  2.1047,  0.5551]])\n"
     ]
    }
   ],
   "source": [
    "print(a)"
   ]
  },
  {
   "cell_type": "markdown",
   "id": "a0a1527e-6258-4b37-8cb9-a03dd5be2157",
   "metadata": {},
   "source": [
    "randn   均值为0, 方差为1, float"
   ]
  },
  {
   "cell_type": "code",
   "execution_count": 18,
   "id": "4f5e6384-09ff-43f2-900b-e81414508c83",
   "metadata": {},
   "outputs": [
    {
     "data": {
      "text/plain": [
       "tensor([[ 0,  1,  2,  3],\n",
       "        [ 4,  5,  6,  7],\n",
       "        [ 8,  9, 10, 11]])"
      ]
     },
     "execution_count": 18,
     "metadata": {},
     "output_type": "execute_result"
    }
   ],
   "source": [
    "import torch\n",
    "x = torch.arange(0, 12).reshape(3,4)\n",
    "x"
   ]
  },
  {
   "cell_type": "code",
   "execution_count": 20,
   "id": "8aab0eb6-4624-4090-89a0-005b76a72210",
   "metadata": {},
   "outputs": [
    {
     "data": {
      "text/plain": [
       "tensor([[0., 0., 0.],\n",
       "        [0., 0., 0.]])"
      ]
     },
     "execution_count": 20,
     "metadata": {},
     "output_type": "execute_result"
    }
   ],
   "source": [
    "x = torch.zeros(2, 3)\n",
    "x"
   ]
  },
  {
   "cell_type": "code",
   "execution_count": 22,
   "id": "d719615b-dcb0-43d1-9b20-c6e9f8b8bad4",
   "metadata": {},
   "outputs": [
    {
     "data": {
      "text/plain": [
       "tensor([[1., 1., 1.],\n",
       "        [1., 1., 1.]])"
      ]
     },
     "execution_count": 22,
     "metadata": {},
     "output_type": "execute_result"
    }
   ],
   "source": [
    "x = torch.ones(2, 3)\n",
    "x"
   ]
  },
  {
   "cell_type": "code",
   "execution_count": 24,
   "id": "18d19102-5d1d-437a-b2d0-b92908d2929e",
   "metadata": {},
   "outputs": [
    {
     "data": {
      "text/plain": [
       "tensor([[0., 0., 0.],\n",
       "        [0., 0., 0.]])"
      ]
     },
     "execution_count": 24,
     "metadata": {},
     "output_type": "execute_result"
    }
   ],
   "source": [
    "x = torch.empty(2, 3)\n",
    "x"
   ]
  },
  {
   "cell_type": "code",
   "execution_count": 26,
   "id": "ef05a21d-ac32-4165-b6bc-969a3822fd2c",
   "metadata": {},
   "outputs": [
    {
     "data": {
      "text/plain": [
       "tensor([[-0.0570, -0.6950,  0.7398],\n",
       "        [-0.2683,  0.0319, -0.6639]])"
      ]
     },
     "execution_count": 26,
     "metadata": {},
     "output_type": "execute_result"
    }
   ],
   "source": [
    "a = torch.randn(2, 3)\n",
    "a"
   ]
  },
  {
   "cell_type": "code",
   "execution_count": 30,
   "id": "a909b3de-1a6a-4d73-aee1-574e61d4d05c",
   "metadata": {},
   "outputs": [
    {
     "data": {
      "text/plain": [
       "tensor([[0.0570, 0.6950, 0.7398],\n",
       "        [0.2683, 0.0319, 0.6639]])"
      ]
     },
     "execution_count": 30,
     "metadata": {},
     "output_type": "execute_result"
    }
   ],
   "source": [
    "b = torch.abs(a)\n",
    "b"
   ]
  },
  {
   "cell_type": "code",
   "execution_count": 34,
   "id": "cd6d1217-ee7d-480e-8cb6-2fbe567dbe54",
   "metadata": {},
   "outputs": [
    {
     "data": {
      "text/plain": [
       "tensor([[0.4057, 0.0684, 0.0440],\n",
       "        [0.0549, 0.5517, 0.3807]])"
      ]
     },
     "execution_count": 34,
     "metadata": {},
     "output_type": "execute_result"
    }
   ],
   "source": [
    "x = torch.rand(2, 3)\n",
    "x"
   ]
  },
  {
   "cell_type": "code",
   "execution_count": 36,
   "id": "3b9be28b-6f2b-40cf-a70c-3bbe6b51f5f5",
   "metadata": {},
   "outputs": [
    {
     "data": {
      "text/plain": [
       "tensor([[0.9987, 0.7820, 0.4576],\n",
       "        [0.3514, 0.1293, 0.0601]])"
      ]
     },
     "execution_count": 36,
     "metadata": {},
     "output_type": "execute_result"
    }
   ],
   "source": [
    "y = torch.rand(2, 3)\n",
    "y"
   ]
  },
  {
   "cell_type": "code",
   "execution_count": 38,
   "id": "a797aa80-4432-41de-80f2-b23ed98eb5af",
   "metadata": {},
   "outputs": [
    {
     "data": {
      "text/plain": [
       "tensor([[1.4044, 0.8504, 0.5017],\n",
       "        [0.4062, 0.6810, 0.4408]])"
      ]
     },
     "execution_count": 38,
     "metadata": {},
     "output_type": "execute_result"
    }
   ],
   "source": [
    "z = torch.add(x, y)\n",
    "z"
   ]
  },
  {
   "cell_type": "code",
   "execution_count": 40,
   "id": "03b6583f-0fb0-4e09-a282-7e3f291c1ae8",
   "metadata": {},
   "outputs": [
    {
     "data": {
      "text/plain": [
       "tensor([[10.4057, 10.0684, 10.0440],\n",
       "        [10.0549, 10.5517, 10.3807]])"
      ]
     },
     "execution_count": 40,
     "metadata": {},
     "output_type": "execute_result"
    }
   ],
   "source": [
    "z = torch.add(x, 10)\n",
    "z"
   ]
  },
  {
   "cell_type": "code",
   "execution_count": 42,
   "id": "d3006943-ffdb-4af4-8123-331f0c3947b2",
   "metadata": {},
   "outputs": [
    {
     "data": {
      "text/plain": [
       "tensor([[1, 2, 3],\n",
       "        [4, 5, 6]])"
      ]
     },
     "execution_count": 42,
     "metadata": {},
     "output_type": "execute_result"
    }
   ],
   "source": [
    "a = torch.tensor([1, 2, 3, 4, 5, 6]).reshape(2, 3)\n",
    "a"
   ]
  },
  {
   "cell_type": "code",
   "execution_count": 44,
   "id": "1703a6ff-ecd4-4db8-be2b-bd8d04ccccf6",
   "metadata": {},
   "outputs": [],
   "source": [
    "b = torch.clamp(a, 3, 3)"
   ]
  },
  {
   "cell_type": "code",
   "execution_count": 46,
   "id": "aa3910b9-ecc7-4f43-bcec-a85323be2f49",
   "metadata": {},
   "outputs": [
    {
     "data": {
      "text/plain": [
       "tensor([[3, 3, 3],\n",
       "        [3, 3, 3]])"
      ]
     },
     "execution_count": 46,
     "metadata": {},
     "output_type": "execute_result"
    }
   ],
   "source": [
    "b"
   ]
  },
  {
   "cell_type": "code",
   "execution_count": 48,
   "id": "ddfd6ab6-3d79-4477-af34-af53d2b13ac1",
   "metadata": {},
   "outputs": [],
   "source": [
    "b = torch.clamp(a, 3, 4)"
   ]
  },
  {
   "cell_type": "code",
   "execution_count": 50,
   "id": "cedd0ac9-d6a3-40c0-96cd-0219b1b38895",
   "metadata": {},
   "outputs": [
    {
     "data": {
      "text/plain": [
       "tensor([[3, 3, 3],\n",
       "        [4, 4, 4]])"
      ]
     },
     "execution_count": 50,
     "metadata": {},
     "output_type": "execute_result"
    }
   ],
   "source": [
    "b"
   ]
  },
  {
   "cell_type": "code",
   "execution_count": 52,
   "id": "dda50296-dae0-4a06-a7dd-f0d2f9f44ec7",
   "metadata": {},
   "outputs": [
    {
     "data": {
      "text/plain": [
       "tensor([[0.3333, 0.6667, 1.0000],\n",
       "        [1.0000, 1.2500, 1.5000]])"
      ]
     },
     "execution_count": 52,
     "metadata": {},
     "output_type": "execute_result"
    }
   ],
   "source": [
    "c = torch.div(a, b)\n",
    "c"
   ]
  },
  {
   "cell_type": "code",
   "execution_count": 2,
   "id": "4bd2fe48-990f-4ccf-8bd6-ba45a578defb",
   "metadata": {},
   "outputs": [],
   "source": [
    "import torch"
   ]
  },
  {
   "cell_type": "code",
   "execution_count": 4,
   "id": "5e70c4b1-63fc-436e-bccb-9db0037e4d2f",
   "metadata": {},
   "outputs": [
    {
     "data": {
      "text/plain": [
       "tensor([2, 3, 4])"
      ]
     },
     "execution_count": 4,
     "metadata": {},
     "output_type": "execute_result"
    }
   ],
   "source": [
    "a = torch.tensor([2, 3, 4])\n",
    "a"
   ]
  },
  {
   "cell_type": "code",
   "execution_count": 8,
   "id": "83173d57-1404-4889-981d-3d52e721013e",
   "metadata": {},
   "outputs": [
    {
     "data": {
      "text/plain": [
       "tensor([ 16,  81, 256])"
      ]
     },
     "execution_count": 8,
     "metadata": {},
     "output_type": "execute_result"
    }
   ],
   "source": [
    "a = torch.pow(a, 2)\n",
    "a"
   ]
  },
  {
   "cell_type": "code",
   "execution_count": 10,
   "id": "d7efb1d9-127a-4429-88d0-791ff9cb6157",
   "metadata": {},
   "outputs": [
    {
     "data": {
      "text/plain": [
       "tensor([2, 3, 4])"
      ]
     },
     "execution_count": 10,
     "metadata": {},
     "output_type": "execute_result"
    }
   ],
   "source": [
    "a = torch.tensor([2, 3, 4])\n",
    "a"
   ]
  },
  {
   "cell_type": "code",
   "execution_count": 12,
   "id": "87cd43c7-a200-4965-86c1-25658f0438a1",
   "metadata": {},
   "outputs": [],
   "source": [
    "b = torch.pow(a, 2)"
   ]
  },
  {
   "cell_type": "code",
   "execution_count": 14,
   "id": "238a85af-2b2b-4576-b7d1-4d4c06d5c6b9",
   "metadata": {},
   "outputs": [
    {
     "data": {
      "text/plain": [
       "tensor([ 4,  9, 16])"
      ]
     },
     "execution_count": 14,
     "metadata": {},
     "output_type": "execute_result"
    }
   ],
   "source": [
    "b"
   ]
  },
  {
   "cell_type": "code",
   "execution_count": 18,
   "id": "2126e472-48f4-4910-b9f6-0ea2042e2d7e",
   "metadata": {},
   "outputs": [
    {
     "data": {
      "text/plain": [
       "tensor([[1, 2, 3],\n",
       "        [2, 3, 4]])"
      ]
     },
     "execution_count": 18,
     "metadata": {},
     "output_type": "execute_result"
    }
   ],
   "source": [
    "a = torch.tensor([[1, 2, 3],[2, 3, 4]])\n",
    "a"
   ]
  },
  {
   "cell_type": "code",
   "execution_count": 20,
   "id": "8870e8ba-3362-4f34-8b6b-2a54953fc3c8",
   "metadata": {},
   "outputs": [
    {
     "data": {
      "text/plain": [
       "tensor([[2, 3, 4],\n",
       "        [1, 1, 1]])"
      ]
     },
     "execution_count": 20,
     "metadata": {},
     "output_type": "execute_result"
    }
   ],
   "source": [
    "b = torch.tensor([[2, 3, 4],[1, 1, 1]])\n",
    "b"
   ]
  },
  {
   "cell_type": "code",
   "execution_count": 22,
   "id": "04950d63-ee91-4283-ab1b-d88a95933214",
   "metadata": {},
   "outputs": [],
   "source": [
    "c = torch.mm(a, b.T)"
   ]
  },
  {
   "cell_type": "code",
   "execution_count": 24,
   "id": "eee71371-ed2f-4773-8b96-a3bad2704db0",
   "metadata": {},
   "outputs": [
    {
     "data": {
      "text/plain": [
       "tensor([[20,  6],\n",
       "        [29,  9]])"
      ]
     },
     "execution_count": 24,
     "metadata": {},
     "output_type": "execute_result"
    }
   ],
   "source": [
    "c"
   ]
  },
  {
   "cell_type": "code",
   "execution_count": 6,
   "id": "6620e985-7c15-4e61-8d74-902074b6ba26",
   "metadata": {},
   "outputs": [
    {
     "data": {
      "text/plain": [
       "tensor([[-0.0929, -0.0762, -1.5224],\n",
       "        [ 1.0897,  0.0570,  1.7094]])"
      ]
     },
     "execution_count": 6,
     "metadata": {},
     "output_type": "execute_result"
    }
   ],
   "source": [
    "import torch\n",
    "a = torch.randn(2, 3)\n",
    "a"
   ]
  },
  {
   "cell_type": "code",
   "execution_count": 8,
   "id": "b1764edf-bd6d-4245-b293-d83ae1e942bf",
   "metadata": {},
   "outputs": [
    {
     "data": {
      "text/plain": [
       "tensor([ 1.6427, -1.1543, -1.3970])"
      ]
     },
     "execution_count": 8,
     "metadata": {},
     "output_type": "execute_result"
    }
   ],
   "source": [
    "b = torch.randn(3)\n",
    "b"
   ]
  },
  {
   "cell_type": "code",
   "execution_count": 10,
   "id": "883d1e61-ffe7-454c-a542-78dbbac720e4",
   "metadata": {},
   "outputs": [
    {
     "data": {
      "text/plain": [
       "tensor([ 2.0622, -0.6639])"
      ]
     },
     "execution_count": 10,
     "metadata": {},
     "output_type": "execute_result"
    }
   ],
   "source": [
    "c = torch.mv(a, b)\n",
    "c"
   ]
  },
  {
   "cell_type": "code",
   "execution_count": 6,
   "id": "8a00a76b-a0c5-4a92-8653-28934c482bbd",
   "metadata": {},
   "outputs": [],
   "source": [
    "#这里用torch.nn实现一个MLP\n",
    "from torch import nn\n",
    "\n",
    "class MLP(nn.Module):\n",
    "    def __init__(self, in_dim, hid_dim1, hid_dim2, out_dim):\n",
    "        super(MLP, self).__init__()\n",
    "        self.layer = nn.Sequential(\n",
    "          nn.Linear(in_dim, hid_dim1),\n",
    "          nn.ReLU(),\n",
    "          nn.Linear(hid_dim1, hid_dim2),\n",
    "          nn.ReLU(),\n",
    "          nn.Linear(hid_dim2, out_dim),\n",
    "          nn.ReLU()\n",
    "       )\n",
    "    def forward(self, x):\n",
    "        x = self.layer(x)\n",
    "        return x"
   ]
  },
  {
   "cell_type": "markdown",
   "id": "5217636d-aaee-4a2f-a25a-25049599732b",
   "metadata": {},
   "source": [
    "# 简易神经网络"
   ]
  },
  {
   "cell_type": "code",
   "execution_count": null,
   "id": "0480a50f-9caf-4de7-9ee8-3be183f11125",
   "metadata": {},
   "outputs": [],
   "source": [
    "import torch\n",
    "batch_n = 100#一个批次输入数据的数量\n",
    "hidden_layer = 100\n",
    "input_data = 1000#每个数据的特征为1000\n",
    "output_data = 10\n",
    "\n",
    "x = torch.randn(batch_n,input_data)\n",
    "y = torch.randn(batch_n,output_data)\n",
    "\n",
    "\n",
    "w1 = torch.randn(input_data,hidden_layer)\n",
    "w2 = torch.randn(hidden_layer,output_data)\n",
    "\n",
    "epoch_n = 20\n",
    "lr = 1e-6\n",
    "\n",
    "\n",
    "for epoch in range(epoch_n):\n",
    "    h1=x.mm(w1)#(100,1000)*(1000,100)-->100*100\n",
    "    print(h1.shape)\n",
    "    h1=h1.clamp(min=0)\n",
    "    y_pred = h1.mm(w2)\n",
    "    \n",
    "    loss = (y_pred-y).pow(2).sum()\n",
    "    print(\"epoch:{},loss:{:.4f}\".format(epoch,loss))\n",
    "    \n",
    "    grad_y_pred = 2*(y_pred-y)\n",
    "    grad_w2 = h1.t().mm(grad_y_pred)\n",
    "    \n",
    "    grad_h = grad_y_pred.clone()\n",
    "    grad_h = grad_h.mm(w2.t())\n",
    "    grad_h.clamp_(min=0)#将小于0的值全部赋值为0，相当于sigmoid\n",
    "    grad_w1 = x.t().mm(grad_h)\n",
    "    \n",
    "    w1 = w1 -lr*grad_w1\n",
    "    w2 = w2 -lr*grad_w2\n"
   ]
  },
  {
   "cell_type": "markdown",
   "id": "b5e38a7e-5ab4-42d4-9fe6-617290516d3e",
   "metadata": {},
   "source": [
    "# 输入层 (X，100*1000维特征)\n",
    "    |\n",
    "    | 线性变换 (权重 W1 1000*100层)\n",
    "    v\n",
    "# 隐藏层线性输出 (H1_linear 100*100)\n",
    "    |\n",
    "    | 激活函数 (ReLU min=0)\n",
    "    v\n",
    "# 隐藏层激活输出 (H1  100*100)\n",
    "    |\n",
    "    | 线性变换 (权重 W2 100*10)\n",
    "    v\n",
    "# 输出层预测值 (Y_pred 100*10)\n",
    "    |\n",
    "    | 损失函数 (如均方误差  sigma(y_pred - y))\n",
    "    v\n",
    "# 损失值 (Loss)\n",
    "\n",
    "#\n",
    "#\n",
    "#\n"
   ]
  },
  {
   "cell_type": "markdown",
   "id": "c6506539-f4ab-483c-ae42-b384ee6b1976",
   "metadata": {},
   "source": [
    "# 损失值 (Loss)\n",
    "    ^\n",
    "    | 计算损失对预测输出 Y_pred 的梯度\n",
    "    |\n",
    "# 输出层预测值 (Y_pred)\n",
    "    ^\n",
    "    | 计算损失对 W2 和 H1 的梯度\n",
    "    |\n",
    "# 隐藏层激活输出 (H1)\n",
    "    ^\n",
    "    | 计算激活函数 (ReLU) 的梯度\n",
    "    |\n",
    "# 隐藏层线性输出 (H1_linear)\n",
    "    ^\n",
    "    | 计算损失对 W1 的梯度\n",
    "    |\n",
    "# 输入层 (X)\n"
   ]
  },
  {
   "cell_type": "code",
   "execution_count": 2,
   "id": "2486a1d5-c575-4fe7-93dd-f9dfed2880a2",
   "metadata": {},
   "outputs": [
    {
     "data": {
      "text/plain": [
       "tensor([[-0.4184,  0.3846, -0.3964],\n",
       "        [-0.5934,  0.5525,  0.4002]])"
      ]
     },
     "execution_count": 2,
     "metadata": {},
     "output_type": "execute_result"
    }
   ],
   "source": [
    "import torch\n",
    "a = torch.randn(2, 3)\n",
    "a"
   ]
  },
  {
   "cell_type": "code",
   "execution_count": 4,
   "id": "1e4a2cef-3dc8-40b5-b647-6378a1ea8ae8",
   "metadata": {},
   "outputs": [
    {
     "data": {
      "text/plain": [
       "tensor([[ 0.3364, -0.6805,  0.5913],\n",
       "        [ 0.0210,  0.6166, -0.6118]])"
      ]
     },
     "execution_count": 4,
     "metadata": {},
     "output_type": "execute_result"
    }
   ],
   "source": [
    "b = torch.randn(2, 3)\n",
    "b"
   ]
  },
  {
   "cell_type": "code",
   "execution_count": 6,
   "id": "48893b22-bc8d-4ff5-83c0-ec7139a73c40",
   "metadata": {},
   "outputs": [
    {
     "data": {
      "text/plain": [
       "tensor([[ -1.2436,  -0.5651,  -0.6704],\n",
       "        [-28.2244,   0.8962,  -0.6542]])"
      ]
     },
     "execution_count": 6,
     "metadata": {},
     "output_type": "execute_result"
    }
   ],
   "source": [
    "c = torch.div(a, b)\n",
    "c"
   ]
  },
  {
   "cell_type": "markdown",
   "id": "c39afebf-46ca-42cc-999b-6d0f2df96c07",
   "metadata": {},
   "source": [
    "# 完整神经网络"
   ]
  },
  {
   "cell_type": "code",
   "execution_count": 2,
   "id": "6de8b83a-64f5-4c6a-b112-303f15e7ac03",
   "metadata": {},
   "outputs": [
    {
     "name": "stdout",
     "output_type": "stream",
     "text": [
      "torch.Size([100, 100])\n",
      "epoch:0,loss:82381360.0000\n",
      "torch.Size([100, 100])\n",
      "epoch:1,loss:245776192.0000\n",
      "torch.Size([100, 100])\n",
      "epoch:2,loss:654988416.0000\n",
      "torch.Size([100, 100])\n",
      "epoch:3,loss:249465312.0000\n",
      "torch.Size([100, 100])\n",
      "epoch:4,loss:14112704.0000\n",
      "torch.Size([100, 100])\n",
      "epoch:5,loss:8451636.0000\n",
      "torch.Size([100, 100])\n",
      "epoch:6,loss:5683316.5000\n",
      "torch.Size([100, 100])\n",
      "epoch:7,loss:4101432.2500\n",
      "torch.Size([100, 100])\n",
      "epoch:8,loss:3117549.5000\n",
      "torch.Size([100, 100])\n",
      "epoch:9,loss:2469978.0000\n",
      "torch.Size([100, 100])\n",
      "epoch:10,loss:2024292.8750\n",
      "torch.Size([100, 100])\n",
      "epoch:11,loss:1706489.8750\n",
      "torch.Size([100, 100])\n",
      "epoch:12,loss:1472251.6250\n",
      "torch.Size([100, 100])\n",
      "epoch:13,loss:1294332.5000\n",
      "torch.Size([100, 100])\n",
      "epoch:14,loss:1155113.2500\n",
      "torch.Size([100, 100])\n",
      "epoch:15,loss:1043136.7500\n",
      "torch.Size([100, 100])\n",
      "epoch:16,loss:950821.8750\n",
      "torch.Size([100, 100])\n",
      "epoch:17,loss:873213.0000\n",
      "torch.Size([100, 100])\n",
      "epoch:18,loss:806622.1250\n",
      "torch.Size([100, 100])\n",
      "epoch:19,loss:748877.8125\n",
      "torch.Size([100, 100])\n",
      "epoch:20,loss:698100.6250\n",
      "torch.Size([100, 100])\n",
      "epoch:21,loss:652986.3125\n",
      "torch.Size([100, 100])\n",
      "epoch:22,loss:612490.0625\n",
      "torch.Size([100, 100])\n",
      "epoch:23,loss:575778.7500\n",
      "torch.Size([100, 100])\n",
      "epoch:24,loss:542404.0625\n",
      "torch.Size([100, 100])\n",
      "epoch:25,loss:511867.0000\n",
      "torch.Size([100, 100])\n",
      "epoch:26,loss:483849.6250\n",
      "torch.Size([100, 100])\n",
      "epoch:27,loss:458037.4688\n",
      "torch.Size([100, 100])\n",
      "epoch:28,loss:434178.6250\n",
      "torch.Size([100, 100])\n",
      "epoch:29,loss:412130.6875\n",
      "torch.Size([100, 100])\n",
      "epoch:30,loss:391667.4375\n",
      "torch.Size([100, 100])\n",
      "epoch:31,loss:372640.2812\n",
      "torch.Size([100, 100])\n",
      "epoch:32,loss:354919.5938\n",
      "torch.Size([100, 100])\n",
      "epoch:33,loss:338409.2500\n",
      "torch.Size([100, 100])\n",
      "epoch:34,loss:322977.0938\n",
      "torch.Size([100, 100])\n",
      "epoch:35,loss:308526.6875\n",
      "torch.Size([100, 100])\n",
      "epoch:36,loss:294997.3438\n",
      "torch.Size([100, 100])\n",
      "epoch:37,loss:282306.5625\n",
      "torch.Size([100, 100])\n",
      "epoch:38,loss:270363.5938\n",
      "torch.Size([100, 100])\n",
      "epoch:39,loss:259123.6562\n",
      "torch.Size([100, 100])\n",
      "epoch:40,loss:248516.7188\n",
      "torch.Size([100, 100])\n",
      "epoch:41,loss:238511.3906\n",
      "torch.Size([100, 100])\n",
      "epoch:42,loss:229057.3594\n",
      "torch.Size([100, 100])\n",
      "epoch:43,loss:220104.5000\n",
      "torch.Size([100, 100])\n",
      "epoch:44,loss:211638.1562\n",
      "torch.Size([100, 100])\n",
      "epoch:45,loss:203627.2500\n",
      "torch.Size([100, 100])\n",
      "epoch:46,loss:196040.3281\n",
      "torch.Size([100, 100])\n",
      "epoch:47,loss:188850.9219\n",
      "torch.Size([100, 100])\n",
      "epoch:48,loss:182033.8438\n",
      "torch.Size([100, 100])\n",
      "epoch:49,loss:175556.2656\n"
     ]
    }
   ],
   "source": [
    "import torch\n",
    "from torch.autograd import Variable\n",
    "batch_n = 100#一个批次输入数据的数量\n",
    "hidden_layer = 100\n",
    "input_data = 1000#每个数据的特征为1000\n",
    "output_data = 10\n",
    "\n",
    "x = Variable(torch.randn(batch_n,input_data),requires_grad=False)\n",
    "y = Variable(torch.randn(batch_n,output_data),requires_grad=False)\n",
    "#用Variable对Tensor数据类型变量进行封装的操作。requires_grad如果是False，表示该变量在进行自动梯度计算的过程中不会保留梯度值。\n",
    "w1 = Variable(torch.randn(input_data,hidden_layer),requires_grad=True)\n",
    "w2 = Variable(torch.randn(hidden_layer,output_data),requires_grad=True)\n",
    "\n",
    "#学习率和迭代次数\n",
    "epoch_n=50\n",
    "lr=1e-6\n",
    "\n",
    "for epoch in range(epoch_n):\n",
    "    h1=x.mm(w1)#(100,1000)*(1000,100)-->100*100\n",
    "    print(h1.shape)\n",
    "    h1=h1.clamp(min=0)\n",
    "    y_pred = h1.mm(w2)\n",
    "    #y_pred = x.mm(w1).clamp(min=0).mm(w2)\n",
    "    loss = (y_pred-y).pow(2).sum()\n",
    "    print(\"epoch:{},loss:{:.4f}\".format(epoch,loss.data))\n",
    "    \n",
    "#     grad_y_pred = 2*(y_pred-y)\n",
    "#     grad_w2 = h1.t().mm(grad_y_pred)\n",
    "    loss.backward()#后向传播\n",
    "#     grad_h = grad_y_pred.clone()\n",
    "#     grad_h = grad_h.mm(w2.t())\n",
    "#     grad_h.clamp_(min=0)#将小于0的值全部赋值为0，相当于sigmoid\n",
    "#     grad_w1 = x.t().mm(grad_h)\n",
    "    w1.data -= lr*w1.grad.data\n",
    "    w2.data -= lr*w2.grad.data\n",
    "\n",
    "    w1.grad.data.zero_()\n",
    "    w2.grad.data.zero_()\n",
    "    \n",
    "#     w1 = w1 -lr*grad_w1\n",
    "#     w2 = w2 -lr*grad_w2\n"
   ]
  },
  {
   "cell_type": "markdown",
   "id": "4b0cda2b-ad44-4fac-8a6a-a721c63eae9d",
   "metadata": {},
   "source": [
    "# 自定义传播函数 (重写前向函数与后向函数)"
   ]
  },
  {
   "cell_type": "code",
   "execution_count": 14,
   "id": "844153fa-e05f-4520-90ea-7ef63b5ccdca",
   "metadata": {},
   "outputs": [
    {
     "name": "stdout",
     "output_type": "stream",
     "text": [
      "epoch:0,loss:24798506.0000\n",
      "epoch:1,loss:20088324.0000\n",
      "epoch:2,loss:20575364.0000\n",
      "epoch:3,loss:23572318.0000\n",
      "epoch:4,loss:26630272.0000\n",
      "epoch:5,loss:26788312.0000\n",
      "epoch:6,loss:22561292.0000\n",
      "epoch:7,loss:15488016.0000\n",
      "epoch:8,loss:8979370.0000\n",
      "epoch:9,loss:4733538.5000\n",
      "epoch:10,loss:2508895.0000\n",
      "epoch:11,loss:1440628.2500\n",
      "epoch:12,loss:931967.4375\n",
      "epoch:13,loss:674159.0000\n",
      "epoch:14,loss:529030.7500\n",
      "epoch:15,loss:436547.5000\n",
      "epoch:16,loss:370912.5000\n",
      "epoch:17,loss:320417.6562\n",
      "epoch:18,loss:279588.2812\n",
      "epoch:19,loss:245597.0312\n",
      "epoch:20,loss:216811.5312\n",
      "epoch:21,loss:192153.2969\n",
      "epoch:22,loss:170882.7812\n",
      "epoch:23,loss:152438.2969\n",
      "epoch:24,loss:136357.0625\n",
      "epoch:25,loss:122279.6328\n",
      "epoch:26,loss:109923.2109\n",
      "epoch:27,loss:99035.8828\n",
      "epoch:28,loss:89414.2969\n",
      "epoch:29,loss:80888.6641\n"
     ]
    }
   ],
   "source": [
    "import torch\n",
    "from torch.autograd import Variable\n",
    "batch_n = 64#一个批次输入数据的数量\n",
    "hidden_layer = 100\n",
    "input_data = 1000#每个数据的特征为1000\n",
    "output_data = 10\n",
    "class Model(torch.nn.Module):#完成类继承的操作\n",
    "    def __init__(self):\n",
    "        super(Model,self).__init__()#类的初始化\n",
    "        \n",
    "    def forward(self,input,w1,w2):\n",
    "        x = torch.mm(input,w1)  # h1\n",
    "        x = torch.clamp(x,min = 0) # active function\n",
    "        x = torch.mm(x,w2)      # output\n",
    "        return x\n",
    "    \n",
    "    def backward(self):\n",
    "        pass\n",
    "model = Model()\n",
    "x = Variable(torch.randn(batch_n,input_data),requires_grad=False)\n",
    "y = Variable(torch.randn(batch_n,output_data),requires_grad=False)\n",
    "#用Variable对Tensor数据类型变量进行封装的操作。requires_grad如果是F，表示该变量在进行自动梯度计算的过程中不会保留梯度值。\n",
    "w1 = Variable(torch.randn(input_data,hidden_layer),requires_grad=True)\n",
    "w2 = Variable(torch.randn(hidden_layer,output_data),requires_grad=True)\n",
    "\n",
    "epoch_n=30\n",
    "\n",
    "for epoch in range(epoch_n):\n",
    "    y_pred = model(x,w1,w2)\n",
    "    \n",
    "    loss = (y_pred-y).pow(2).sum()\n",
    "    print(\"epoch:{},loss:{:.4f}\".format(epoch,loss.data))\n",
    "    loss.backward()\n",
    "    w1.data -= lr*w1.grad.data\n",
    "    w2.data -= lr*w2.grad.data\n",
    "\n",
    "    w1.grad.data.zero_()\n",
    "    w2.grad.data.zero_()\n",
    "    \n"
   ]
  },
  {
   "cell_type": "markdown",
   "id": "09f989e5-1de2-41f3-bc81-0b427c7bae6d",
   "metadata": {},
   "source": [
    "# torch.nn.Sequential\n"
   ]
  },
  {
   "cell_type": "code",
   "execution_count": 5,
   "id": "f1f07b0c-d213-41c5-ab96-7043b296c643",
   "metadata": {},
   "outputs": [],
   "source": [
    "import torch\n",
    "from torch.autograd import Variable\n",
    "batch_n = 100\n",
    "hidden_layer = 100\n",
    "input_data = 1000\n",
    "output_data = 10\n",
    "x = Variable(torch.randn(batch_n, input_data), requires_grad = False)   # 不保留梯度\n",
    "y = Variable(torch.randn(batch_n, output_data), requires_grad = False)  # 不保留梯度\n",
    "models = torch.nn.Sequential(\n",
    "    torch.nn.Linear(input_data, hidden_layer),\n",
    "    torch.nn.ReLU(),\n",
    "    torch.nn.Linear(hidden_layer, output_data)\n",
    ")"
   ]
  },
  {
   "cell_type": "markdown",
   "id": "edd45080-912e-4a4e-990c-fc1613b0f126",
   "metadata": {},
   "source": [
    "# models = torch.nn.Sequential() 括号内是搭建的神经网络模型的结构, \n",
    "# 参数会按照定义好的序列传递\n",
    "# \n",
    "# torch.nn.Linear() 做线性运算, 输入特征数, 输出特征数, 是否使用偏置, 默认为True\n",
    "# \n",
    "# torch.nn.ReLU() 激活函数, 默认定义不需要参数\n",
    "# "
   ]
  },
  {
   "cell_type": "markdown",
   "id": "4c9de8ff-f793-4c7c-83de-1c1fc8174944",
   "metadata": {},
   "source": [
    "# torch.nn.MSELoss"
   ]
  },
  {
   "cell_type": "code",
   "execution_count": 21,
   "id": "9dab19e0-9ce2-404c-bac9-993cb7b38625",
   "metadata": {},
   "outputs": [
    {
     "data": {
      "text/plain": [
       "tensor(2.0467)"
      ]
     },
     "execution_count": 21,
     "metadata": {},
     "output_type": "execute_result"
    }
   ],
   "source": [
    "import torch\n",
    "from torch.autograd import Variable\n",
    "loss_f = torch.nn.MSELoss()\n",
    "x = Variable(torch.randn(100, 100))\n",
    "y = Variable(torch.randn(100, 100))\n",
    "loss = loss_f(x, y)\n",
    "loss.data"
   ]
  },
  {
   "cell_type": "markdown",
   "id": "2600234d-661e-4a96-8789-595bc782af47",
   "metadata": {},
   "source": [
    "# torch.nn.MSELoss()使用均方误差函数对损失值计算, 定义不需要传入参数, 使用实例时输入两个维度一样的参数"
   ]
  },
  {
   "cell_type": "markdown",
   "id": "9d8a11b0-33bf-4fe9-90b3-8a2c9916f121",
   "metadata": {},
   "source": [
    "# torch.nn.L1Loss"
   ]
  },
  {
   "cell_type": "code",
   "execution_count": 25,
   "id": "99acc1ae-f5fa-474e-801d-ce0e7085d5d2",
   "metadata": {},
   "outputs": [
    {
     "data": {
      "text/plain": [
       "tensor(1.1216)"
      ]
     },
     "execution_count": 25,
     "metadata": {},
     "output_type": "execute_result"
    }
   ],
   "source": [
    "import torch\n",
    "from torch.autograd import Variable\n",
    "loss_f = torch.nn.L1Loss()\n",
    "x = Variable(torch.randn(100, 100))\n",
    "y = Variable(torch.randn(100, 100))\n",
    "loss = loss_f(x, y)\n",
    "loss.data"
   ]
  },
  {
   "cell_type": "markdown",
   "id": "c647007e-e425-4632-a932-84a44c724abb",
   "metadata": {},
   "source": [
    "# torch.nn.MSELoss()使用平均绝对误差函数对损失值计算, 定义不需要传入参数, 使用实例时输入两个维度一样的参数"
   ]
  },
  {
   "cell_type": "code",
   "execution_count": 3,
   "id": "4109cbcf-b460-4fea-8582-ac3ccf0a24a0",
   "metadata": {},
   "outputs": [
    {
     "name": "stdout",
     "output_type": "stream",
     "text": [
      "epoch:0, loss:1.0648\n",
      "epoch:1000, loss:1.0640\n",
      "epoch:2000, loss:1.0631\n",
      "epoch:3000, loss:1.0623\n",
      "epoch:4000, loss:1.0614\n",
      "epoch:5000, loss:1.0606\n",
      "epoch:6000, loss:1.0598\n",
      "epoch:7000, loss:1.0590\n",
      "epoch:8000, loss:1.0581\n",
      "epoch:9000, loss:1.0573\n",
      "epoch:10000, loss:1.0565\n",
      "epoch:11000, loss:1.0557\n",
      "epoch:12000, loss:1.0548\n"
     ]
    }
   ],
   "source": [
    "import torch\n",
    "from torch.autograd import Variable\n",
    "loss_f = torch.nn.MSELoss()\n",
    "x = Variable(torch.randn(100, 100))\n",
    "y = Variable(torch.randn(100, 100))\n",
    "loss = loss_f(x, y)\n",
    "\n",
    "\n",
    "batch_n = 100\n",
    "hidden_layer = 100\n",
    "input_data = 1000\n",
    "output_data = 10\n",
    "\n",
    "\n",
    "x = Variable(torch.randn(batch_n, input_data), requires_grad = False)\n",
    "y = Variable(torch.randn(batch_n, output_data), requires_grad = False)\n",
    "\n",
    "models = torch.nn.Sequential(\n",
    "    torch.nn.Linear(input_data, hidden_layer),\n",
    "    torch.nn.ReLU(),\n",
    "    torch.nn.Linear(hidden_layer, output_data)\n",
    ")\n",
    "\n",
    "epoch_n=12345\n",
    "lr = 1e-6\n",
    "\n",
    "# 模型训练\n",
    "for epoch in range(epoch_n):\n",
    "    y_pred = models(x)\n",
    "\n",
    "    loss = loss_f(y_pred, y)\n",
    "    if epoch%1000 == 0:\n",
    "        print(\"epoch:{}, loss:{:.4f}\".format(epoch, loss.data))\n",
    "    models.zero_grad()\n",
    "\n",
    "    loss.backward()\n",
    "\n",
    "    for param in models.parameters():\n",
    "        param.data -= param.grad.data*lr"
   ]
  },
  {
   "cell_type": "markdown",
   "id": "ba6ab65b-b5c8-46db-9fd1-7b63167437b8",
   "metadata": {},
   "source": [
    "# torch.optim"
   ]
  },
  {
   "cell_type": "code",
   "execution_count": 14,
   "id": "ef18ca1e-38c1-4c1b-82fc-e3e8756f6a20",
   "metadata": {},
   "outputs": [
    {
     "name": "stdout",
     "output_type": "stream",
     "text": [
      "Epoch:0, Loss:0.9980\n",
      "Epoch:1, Loss:0.9958\n",
      "Epoch:2, Loss:0.9937\n",
      "Epoch:3, Loss:0.9916\n",
      "Epoch:4, Loss:0.9895\n",
      "Epoch:5, Loss:0.9874\n",
      "Epoch:6, Loss:0.9853\n",
      "Epoch:7, Loss:0.9832\n",
      "Epoch:8, Loss:0.9811\n",
      "Epoch:9, Loss:0.9791\n",
      "Epoch:10, Loss:0.9770\n",
      "Epoch:11, Loss:0.9749\n",
      "Epoch:12, Loss:0.9729\n",
      "Epoch:13, Loss:0.9708\n",
      "Epoch:14, Loss:0.9688\n",
      "Epoch:15, Loss:0.9667\n",
      "Epoch:16, Loss:0.9647\n",
      "Epoch:17, Loss:0.9626\n",
      "Epoch:18, Loss:0.9606\n",
      "Epoch:19, Loss:0.9586\n",
      "Epoch:20, Loss:0.9565\n",
      "Epoch:21, Loss:0.9545\n",
      "Epoch:22, Loss:0.9525\n",
      "Epoch:23, Loss:0.9505\n",
      "Epoch:24, Loss:0.9485\n",
      "Epoch:25, Loss:0.9465\n",
      "Epoch:26, Loss:0.9445\n",
      "Epoch:27, Loss:0.9425\n",
      "Epoch:28, Loss:0.9405\n",
      "Epoch:29, Loss:0.9385\n",
      "Epoch:30, Loss:0.9365\n",
      "Epoch:31, Loss:0.9345\n",
      "Epoch:32, Loss:0.9326\n",
      "Epoch:33, Loss:0.9306\n",
      "Epoch:34, Loss:0.9286\n",
      "Epoch:35, Loss:0.9267\n",
      "Epoch:36, Loss:0.9247\n",
      "Epoch:37, Loss:0.9227\n",
      "Epoch:38, Loss:0.9208\n",
      "Epoch:39, Loss:0.9188\n",
      "Epoch:40, Loss:0.9169\n",
      "Epoch:41, Loss:0.9150\n",
      "Epoch:42, Loss:0.9130\n",
      "Epoch:43, Loss:0.9111\n",
      "Epoch:44, Loss:0.9092\n",
      "Epoch:45, Loss:0.9073\n",
      "Epoch:46, Loss:0.9054\n",
      "Epoch:47, Loss:0.9034\n",
      "Epoch:48, Loss:0.9015\n",
      "Epoch:49, Loss:0.8996\n",
      "Epoch:50, Loss:0.8977\n",
      "Epoch:51, Loss:0.8958\n",
      "Epoch:52, Loss:0.8939\n",
      "Epoch:53, Loss:0.8921\n",
      "Epoch:54, Loss:0.8902\n",
      "Epoch:55, Loss:0.8883\n",
      "Epoch:56, Loss:0.8865\n",
      "Epoch:57, Loss:0.8846\n",
      "Epoch:58, Loss:0.8827\n",
      "Epoch:59, Loss:0.8809\n",
      "Epoch:60, Loss:0.8790\n",
      "Epoch:61, Loss:0.8772\n",
      "Epoch:62, Loss:0.8753\n",
      "Epoch:63, Loss:0.8735\n",
      "Epoch:64, Loss:0.8717\n",
      "Epoch:65, Loss:0.8699\n",
      "Epoch:66, Loss:0.8680\n",
      "Epoch:67, Loss:0.8662\n",
      "Epoch:68, Loss:0.8644\n",
      "Epoch:69, Loss:0.8626\n",
      "Epoch:70, Loss:0.8608\n",
      "Epoch:71, Loss:0.8590\n",
      "Epoch:72, Loss:0.8572\n",
      "Epoch:73, Loss:0.8554\n",
      "Epoch:74, Loss:0.8537\n",
      "Epoch:75, Loss:0.8519\n",
      "Epoch:76, Loss:0.8501\n",
      "Epoch:77, Loss:0.8483\n",
      "Epoch:78, Loss:0.8466\n",
      "Epoch:79, Loss:0.8448\n",
      "Epoch:80, Loss:0.8431\n",
      "Epoch:81, Loss:0.8413\n",
      "Epoch:82, Loss:0.8396\n",
      "Epoch:83, Loss:0.8378\n",
      "Epoch:84, Loss:0.8361\n",
      "Epoch:85, Loss:0.8344\n",
      "Epoch:86, Loss:0.8326\n",
      "Epoch:87, Loss:0.8309\n",
      "Epoch:88, Loss:0.8292\n",
      "Epoch:89, Loss:0.8275\n",
      "Epoch:90, Loss:0.8258\n",
      "Epoch:91, Loss:0.8241\n",
      "Epoch:92, Loss:0.8224\n",
      "Epoch:93, Loss:0.8207\n",
      "Epoch:94, Loss:0.8190\n",
      "Epoch:95, Loss:0.8173\n",
      "Epoch:96, Loss:0.8156\n",
      "Epoch:97, Loss:0.8139\n",
      "Epoch:98, Loss:0.8123\n",
      "Epoch:99, Loss:0.8106\n",
      "Epoch:100, Loss:0.8089\n",
      "Epoch:101, Loss:0.8073\n",
      "Epoch:102, Loss:0.8056\n",
      "Epoch:103, Loss:0.8040\n",
      "Epoch:104, Loss:0.8023\n",
      "Epoch:105, Loss:0.8007\n",
      "Epoch:106, Loss:0.7990\n",
      "Epoch:107, Loss:0.7974\n",
      "Epoch:108, Loss:0.7958\n",
      "Epoch:109, Loss:0.7941\n",
      "Epoch:110, Loss:0.7925\n",
      "Epoch:111, Loss:0.7909\n",
      "Epoch:112, Loss:0.7893\n",
      "Epoch:113, Loss:0.7876\n",
      "Epoch:114, Loss:0.7860\n",
      "Epoch:115, Loss:0.7844\n",
      "Epoch:116, Loss:0.7828\n",
      "Epoch:117, Loss:0.7812\n",
      "Epoch:118, Loss:0.7796\n",
      "Epoch:119, Loss:0.7780\n",
      "Epoch:120, Loss:0.7764\n",
      "Epoch:121, Loss:0.7748\n",
      "Epoch:122, Loss:0.7733\n"
     ]
    }
   ],
   "source": [
    "import torch\n",
    "from torch.autograd import Variable\n",
    "loss_f = torch.nn.MSELoss()\n",
    "x = Variable(torch.randn(100, 100))\n",
    "y = Variable(torch.randn(100, 100))\n",
    "loss = loss_f(x, y)\n",
    "\n",
    "\n",
    "batch_n = 100\n",
    "hidden_layer = 100\n",
    "input_data = 1000\n",
    "output_data = 10\n",
    "\n",
    "\n",
    "x = Variable(torch.randn(batch_n, input_data), requires_grad = False)\n",
    "y = Variable(torch.randn(batch_n, output_data), requires_grad = False)\n",
    "\n",
    "models = torch.nn.Sequential(\n",
    "    torch.nn.Linear(input_data, hidden_layer),\n",
    "    torch.nn.ReLU(),\n",
    "    torch.nn.Linear(hidden_layer, output_data)\n",
    ")\n",
    "\n",
    "epoch_n=123\n",
    "lr = 1e-5\n",
    "loss_f = torch.nn.MSELoss()\n",
    "\n",
    "optimzer = torch.optim.Adam(models.parameters(), lr = lr)\n",
    "\n",
    "\n",
    "# 模型训练\n",
    "for epoch in range(epoch_n):\n",
    "    y_pred = models(x)\n",
    "    loss = loss_f(y_pred, y)\n",
    "    print(\"Epoch:{}, Loss:{:.4f}\".format(epoch, loss.data))\n",
    "    optimzer.zero_grad()\n",
    "    loss.backward()\n",
    "    optimzer.step()"
   ]
  },
  {
   "cell_type": "code",
   "execution_count": null,
   "id": "e52f1269-d044-4355-b7a9-f9fe5cc78f75",
   "metadata": {},
   "outputs": [],
   "source": []
  }
 ],
 "metadata": {
  "kernelspec": {
   "display_name": "Python 3 (ipykernel)",
   "language": "python",
   "name": "python3"
  },
  "language_info": {
   "codemirror_mode": {
    "name": "ipython",
    "version": 3
   },
   "file_extension": ".py",
   "mimetype": "text/x-python",
   "name": "python",
   "nbconvert_exporter": "python",
   "pygments_lexer": "ipython3",
   "version": "3.12.4"
  }
 },
 "nbformat": 4,
 "nbformat_minor": 5
}
