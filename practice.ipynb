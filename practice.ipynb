{
 "cells": [
  {
   "cell_type": "code",
   "execution_count": 26,
   "id": "d1d3a236-1cd9-4831-8c43-b8e5f14bcd60",
   "metadata": {},
   "outputs": [
    {
     "data": {
      "text/plain": [
       "'/Users/baijingyuan/jupyterPj/pytorch_practice'"
      ]
     },
     "execution_count": 26,
     "metadata": {},
     "output_type": "execute_result"
    }
   ],
   "source": [
    "pwd"
   ]
  },
  {
   "cell_type": "markdown",
   "id": "01b552ba-bee2-4712-9fc3-f650c78e91b9",
   "metadata": {},
   "source": [
    "import torch"
   ]
  },
  {
   "cell_type": "code",
   "execution_count": 16,
   "id": "3de41d72-766d-4586-8a40-b37a3e8d96ee",
   "metadata": {},
   "outputs": [
    {
     "data": {
      "text/plain": [
       "tensor([[0., 0., 0., 0., 0.],\n",
       "        [0., 0., 0., 0., 0.],\n",
       "        [0., 0., 0., 0., 0.]])"
      ]
     },
     "execution_count": 16,
     "metadata": {},
     "output_type": "execute_result"
    }
   ],
   "source": [
    "torch.empty(3,5)"
   ]
  },
  {
   "cell_type": "code",
   "execution_count": 18,
   "id": "465db6fa-ac11-4cf3-a652-0ca4cb6aab24",
   "metadata": {},
   "outputs": [],
   "source": [
    "x = torch.tensor([5.5, 3])"
   ]
  },
  {
   "cell_type": "code",
   "execution_count": 20,
   "id": "352bb956-2eba-4730-94e8-ccb010518946",
   "metadata": {},
   "outputs": [
    {
     "name": "stdout",
     "output_type": "stream",
     "text": [
      "tensor([5.5000, 3.0000])\n"
     ]
    }
   ],
   "source": [
    "print(x)"
   ]
  },
  {
   "cell_type": "code",
   "execution_count": 22,
   "id": "58b30dd2-e590-4547-af6b-d180e6a4b132",
   "metadata": {},
   "outputs": [],
   "source": [
    "x = torch.rand(5,3)"
   ]
  },
  {
   "cell_type": "code",
   "execution_count": 24,
   "id": "9fdc55f1-7a67-41c4-87ae-1f289f3ae233",
   "metadata": {},
   "outputs": [
    {
     "name": "stdout",
     "output_type": "stream",
     "text": [
      "tensor([[0.3022, 0.9977, 0.3151],\n",
      "        [0.3147, 0.3222, 0.7463],\n",
      "        [0.1571, 0.3295, 0.3977],\n",
      "        [0.6116, 0.7345, 0.9638],\n",
      "        [0.1245, 0.7521, 0.3267]])\n"
     ]
    }
   ],
   "source": [
    "print(x)"
   ]
  },
  {
   "cell_type": "code",
   "execution_count": 61,
   "id": "4b7c18eb-5262-4df4-8c2c-2029b860e1cb",
   "metadata": {},
   "outputs": [
    {
     "name": "stdout",
     "output_type": "stream",
     "text": [
      "tensor([[0.7988, 0.4484, 0.4187],\n",
      "        [0.4488, 0.2201, 0.7110],\n",
      "        [0.1796, 0.9812, 0.5387],\n",
      "        [0.5059, 0.1817, 0.4603],\n",
      "        [0.5799, 0.3885, 0.6683]]) tensor([[0.9356, 0.7896, 0.9591],\n",
      "        [0.5162, 0.5644, 0.1231],\n",
      "        [0.3896, 0.6357, 0.9558],\n",
      "        [0.6159, 0.1719, 0.3662],\n",
      "        [0.7664, 0.5161, 0.4988]]) tensor([[1.7344, 1.2380, 1.3778],\n",
      "        [0.9650, 0.7845, 0.8340],\n",
      "        [0.5691, 1.6169, 1.4945],\n",
      "        [1.1217, 0.3536, 0.8265],\n",
      "        [1.3463, 0.9046, 1.1671]])\n"
     ]
    }
   ],
   "source": [
    "result = torch.empty(5, 3)\n",
    "x = torch.rand(5, 3)\n",
    "y = torch.rand(5, 3)\n",
    "result = torch.add(x, y)\n",
    "print(x, y, result)"
   ]
  },
  {
   "cell_type": "code",
   "execution_count": 62,
   "id": "673d8ee4-797d-4659-a562-f898eb1d38ea",
   "metadata": {},
   "outputs": [
    {
     "data": {
      "text/plain": [
       "torch.Size([5, 3])"
      ]
     },
     "execution_count": 62,
     "metadata": {},
     "output_type": "execute_result"
    }
   ],
   "source": [
    "result.size()"
   ]
  },
  {
   "cell_type": "code",
   "execution_count": 63,
   "id": "8fbfb5d3-0e38-4580-99a4-a180c0e9517f",
   "metadata": {},
   "outputs": [
    {
     "data": {
      "text/plain": [
       "torch.Size([5, 3])"
      ]
     },
     "execution_count": 63,
     "metadata": {},
     "output_type": "execute_result"
    }
   ],
   "source": [
    "y.size()"
   ]
  },
  {
   "cell_type": "code",
   "execution_count": 75,
   "id": "3fbe2be8-ced2-4697-aaba-9c515ca86ba1",
   "metadata": {},
   "outputs": [
    {
     "data": {
      "text/plain": [
       "tensor([5, 3])"
      ]
     },
     "execution_count": 75,
     "metadata": {},
     "output_type": "execute_result"
    }
   ],
   "source": [
    "torch.Tensor([5, 3])\n",
    "torch.tensor([5, 3])"
   ]
  },
  {
   "cell_type": "code",
   "execution_count": 81,
   "id": "edcc9951-8a7c-46f8-b8a6-841d19c38aa9",
   "metadata": {},
   "outputs": [],
   "source": [
    "y = torch.randn(5, 3) \n",
    "x = torch.rand(5, 3)"
   ]
  },
  {
   "cell_type": "code",
   "execution_count": 83,
   "id": "d0ff71e0-29d7-40af-a791-34ec0945e5c4",
   "metadata": {},
   "outputs": [
    {
     "name": "stdout",
     "output_type": "stream",
     "text": [
      "tensor([[0.8220, 0.0360, 0.8679],\n",
      "        [0.5416, 0.7822, 0.0012],\n",
      "        [0.0966, 0.8848, 0.9145],\n",
      "        [0.9756, 0.1376, 0.3397],\n",
      "        [0.3591, 0.2048, 0.8002]])\n"
     ]
    }
   ],
   "source": [
    "print(x)"
   ]
  },
  {
   "cell_type": "code",
   "execution_count": 85,
   "id": "7a26c70d-9480-4891-8290-b1c2e8ff3e7f",
   "metadata": {},
   "outputs": [
    {
     "name": "stdout",
     "output_type": "stream",
     "text": [
      "tensor([[-0.5581, -0.1057,  0.4288],\n",
      "        [ 0.9190,  1.6343,  0.0696],\n",
      "        [ 1.2717,  0.9356, -1.0167],\n",
      "        [-0.4650,  0.4329,  0.7812],\n",
      "        [ 0.9244, -0.9421, -0.0802]])\n"
     ]
    }
   ],
   "source": [
    "print(y)"
   ]
  },
  {
   "cell_type": "code",
   "execution_count": 6,
   "id": "7ddcf4e6-12df-4775-9aae-815c8864a5d3",
   "metadata": {},
   "outputs": [],
   "source": [
    "import torch\n",
    "x = torch.FloatTensor([5, 3])\n",
    "y = torch.IntTensor([5.0, 3.0])"
   ]
  },
  {
   "cell_type": "code",
   "execution_count": 9,
   "id": "62da05fe-0f22-4143-897b-0c4cd25cc890",
   "metadata": {},
   "outputs": [
    {
     "name": "stdout",
     "output_type": "stream",
     "text": [
      "tensor([5., 3.])\n"
     ]
    }
   ],
   "source": [
    "print(x)"
   ]
  },
  {
   "cell_type": "code",
   "execution_count": 11,
   "id": "3ebdfde9-1db7-411c-ba70-88fb65a41672",
   "metadata": {},
   "outputs": [
    {
     "name": "stdout",
     "output_type": "stream",
     "text": [
      "tensor([5, 3], dtype=torch.int32)\n"
     ]
    }
   ],
   "source": [
    "print(y)"
   ]
  },
  {
   "cell_type": "code",
   "execution_count": 13,
   "id": "2dfda30e-ab38-4264-a80d-2b33e42a4c55",
   "metadata": {},
   "outputs": [],
   "source": [
    "a = torch.randn(5,3)"
   ]
  },
  {
   "cell_type": "code",
   "execution_count": 15,
   "id": "61d39c0e-85a9-43a0-8c4e-993eafef9461",
   "metadata": {},
   "outputs": [
    {
     "name": "stdout",
     "output_type": "stream",
     "text": [
      "tensor([[ 0.9500, -1.4548, -1.9308],\n",
      "        [ 0.0068, -0.6253, -0.2284],\n",
      "        [ 0.8488, -0.3014, -1.3392],\n",
      "        [-1.1099,  0.3267,  1.3600],\n",
      "        [-0.5708,  2.1047,  0.5551]])\n"
     ]
    }
   ],
   "source": [
    "print(a)"
   ]
  },
  {
   "cell_type": "markdown",
   "id": "a0a1527e-6258-4b37-8cb9-a03dd5be2157",
   "metadata": {},
   "source": [
    "randn   均值为0, 方差为1, float"
   ]
  },
  {
   "cell_type": "code",
   "execution_count": 18,
   "id": "4f5e6384-09ff-43f2-900b-e81414508c83",
   "metadata": {},
   "outputs": [
    {
     "data": {
      "text/plain": [
       "tensor([[ 0,  1,  2,  3],\n",
       "        [ 4,  5,  6,  7],\n",
       "        [ 8,  9, 10, 11]])"
      ]
     },
     "execution_count": 18,
     "metadata": {},
     "output_type": "execute_result"
    }
   ],
   "source": [
    "import torch\n",
    "x = torch.arange(0, 12).reshape(3,4)\n",
    "x"
   ]
  },
  {
   "cell_type": "code",
   "execution_count": 20,
   "id": "8aab0eb6-4624-4090-89a0-005b76a72210",
   "metadata": {},
   "outputs": [
    {
     "data": {
      "text/plain": [
       "tensor([[0., 0., 0.],\n",
       "        [0., 0., 0.]])"
      ]
     },
     "execution_count": 20,
     "metadata": {},
     "output_type": "execute_result"
    }
   ],
   "source": [
    "x = torch.zeros(2, 3)\n",
    "x"
   ]
  },
  {
   "cell_type": "code",
   "execution_count": 22,
   "id": "d719615b-dcb0-43d1-9b20-c6e9f8b8bad4",
   "metadata": {},
   "outputs": [
    {
     "data": {
      "text/plain": [
       "tensor([[1., 1., 1.],\n",
       "        [1., 1., 1.]])"
      ]
     },
     "execution_count": 22,
     "metadata": {},
     "output_type": "execute_result"
    }
   ],
   "source": [
    "x = torch.ones(2, 3)\n",
    "x"
   ]
  },
  {
   "cell_type": "code",
   "execution_count": 24,
   "id": "18d19102-5d1d-437a-b2d0-b92908d2929e",
   "metadata": {},
   "outputs": [
    {
     "data": {
      "text/plain": [
       "tensor([[0., 0., 0.],\n",
       "        [0., 0., 0.]])"
      ]
     },
     "execution_count": 24,
     "metadata": {},
     "output_type": "execute_result"
    }
   ],
   "source": [
    "x = torch.empty(2, 3)\n",
    "x"
   ]
  },
  {
   "cell_type": "code",
   "execution_count": 26,
   "id": "ef05a21d-ac32-4165-b6bc-969a3822fd2c",
   "metadata": {},
   "outputs": [
    {
     "data": {
      "text/plain": [
       "tensor([[-0.0570, -0.6950,  0.7398],\n",
       "        [-0.2683,  0.0319, -0.6639]])"
      ]
     },
     "execution_count": 26,
     "metadata": {},
     "output_type": "execute_result"
    }
   ],
   "source": [
    "a = torch.randn(2, 3)\n",
    "a"
   ]
  },
  {
   "cell_type": "code",
   "execution_count": 30,
   "id": "a909b3de-1a6a-4d73-aee1-574e61d4d05c",
   "metadata": {},
   "outputs": [
    {
     "data": {
      "text/plain": [
       "tensor([[0.0570, 0.6950, 0.7398],\n",
       "        [0.2683, 0.0319, 0.6639]])"
      ]
     },
     "execution_count": 30,
     "metadata": {},
     "output_type": "execute_result"
    }
   ],
   "source": [
    "b = torch.abs(a)\n",
    "b"
   ]
  },
  {
   "cell_type": "code",
   "execution_count": 34,
   "id": "cd6d1217-ee7d-480e-8cb6-2fbe567dbe54",
   "metadata": {},
   "outputs": [
    {
     "data": {
      "text/plain": [
       "tensor([[0.4057, 0.0684, 0.0440],\n",
       "        [0.0549, 0.5517, 0.3807]])"
      ]
     },
     "execution_count": 34,
     "metadata": {},
     "output_type": "execute_result"
    }
   ],
   "source": [
    "x = torch.rand(2, 3)\n",
    "x"
   ]
  },
  {
   "cell_type": "code",
   "execution_count": 36,
   "id": "3b9be28b-6f2b-40cf-a70c-3bbe6b51f5f5",
   "metadata": {},
   "outputs": [
    {
     "data": {
      "text/plain": [
       "tensor([[0.9987, 0.7820, 0.4576],\n",
       "        [0.3514, 0.1293, 0.0601]])"
      ]
     },
     "execution_count": 36,
     "metadata": {},
     "output_type": "execute_result"
    }
   ],
   "source": [
    "y = torch.rand(2, 3)\n",
    "y"
   ]
  },
  {
   "cell_type": "code",
   "execution_count": 38,
   "id": "a797aa80-4432-41de-80f2-b23ed98eb5af",
   "metadata": {},
   "outputs": [
    {
     "data": {
      "text/plain": [
       "tensor([[1.4044, 0.8504, 0.5017],\n",
       "        [0.4062, 0.6810, 0.4408]])"
      ]
     },
     "execution_count": 38,
     "metadata": {},
     "output_type": "execute_result"
    }
   ],
   "source": [
    "z = torch.add(x, y)\n",
    "z"
   ]
  },
  {
   "cell_type": "code",
   "execution_count": 40,
   "id": "03b6583f-0fb0-4e09-a282-7e3f291c1ae8",
   "metadata": {},
   "outputs": [
    {
     "data": {
      "text/plain": [
       "tensor([[10.4057, 10.0684, 10.0440],\n",
       "        [10.0549, 10.5517, 10.3807]])"
      ]
     },
     "execution_count": 40,
     "metadata": {},
     "output_type": "execute_result"
    }
   ],
   "source": [
    "z = torch.add(x, 10)\n",
    "z"
   ]
  },
  {
   "cell_type": "code",
   "execution_count": 42,
   "id": "d3006943-ffdb-4af4-8123-331f0c3947b2",
   "metadata": {},
   "outputs": [
    {
     "data": {
      "text/plain": [
       "tensor([[1, 2, 3],\n",
       "        [4, 5, 6]])"
      ]
     },
     "execution_count": 42,
     "metadata": {},
     "output_type": "execute_result"
    }
   ],
   "source": [
    "a = torch.tensor([1, 2, 3, 4, 5, 6]).reshape(2, 3)\n",
    "a"
   ]
  },
  {
   "cell_type": "code",
   "execution_count": 44,
   "id": "1703a6ff-ecd4-4db8-be2b-bd8d04ccccf6",
   "metadata": {},
   "outputs": [],
   "source": [
    "b = torch.clamp(a, 3, 3)"
   ]
  },
  {
   "cell_type": "code",
   "execution_count": 46,
   "id": "aa3910b9-ecc7-4f43-bcec-a85323be2f49",
   "metadata": {},
   "outputs": [
    {
     "data": {
      "text/plain": [
       "tensor([[3, 3, 3],\n",
       "        [3, 3, 3]])"
      ]
     },
     "execution_count": 46,
     "metadata": {},
     "output_type": "execute_result"
    }
   ],
   "source": [
    "b"
   ]
  },
  {
   "cell_type": "code",
   "execution_count": 48,
   "id": "ddfd6ab6-3d79-4477-af34-af53d2b13ac1",
   "metadata": {},
   "outputs": [],
   "source": [
    "b = torch.clamp(a, 3, 4)"
   ]
  },
  {
   "cell_type": "code",
   "execution_count": 50,
   "id": "cedd0ac9-d6a3-40c0-96cd-0219b1b38895",
   "metadata": {},
   "outputs": [
    {
     "data": {
      "text/plain": [
       "tensor([[3, 3, 3],\n",
       "        [4, 4, 4]])"
      ]
     },
     "execution_count": 50,
     "metadata": {},
     "output_type": "execute_result"
    }
   ],
   "source": [
    "b"
   ]
  },
  {
   "cell_type": "code",
   "execution_count": 52,
   "id": "dda50296-dae0-4a06-a7dd-f0d2f9f44ec7",
   "metadata": {},
   "outputs": [
    {
     "data": {
      "text/plain": [
       "tensor([[0.3333, 0.6667, 1.0000],\n",
       "        [1.0000, 1.2500, 1.5000]])"
      ]
     },
     "execution_count": 52,
     "metadata": {},
     "output_type": "execute_result"
    }
   ],
   "source": [
    "c = torch.div(a, b)\n",
    "c"
   ]
  },
  {
   "cell_type": "code",
   "execution_count": 2,
   "id": "4bd2fe48-990f-4ccf-8bd6-ba45a578defb",
   "metadata": {},
   "outputs": [],
   "source": [
    "import torch"
   ]
  },
  {
   "cell_type": "code",
   "execution_count": 4,
   "id": "5e70c4b1-63fc-436e-bccb-9db0037e4d2f",
   "metadata": {},
   "outputs": [
    {
     "data": {
      "text/plain": [
       "tensor([2, 3, 4])"
      ]
     },
     "execution_count": 4,
     "metadata": {},
     "output_type": "execute_result"
    }
   ],
   "source": [
    "a = torch.tensor([2, 3, 4])\n",
    "a"
   ]
  },
  {
   "cell_type": "code",
   "execution_count": 8,
   "id": "83173d57-1404-4889-981d-3d52e721013e",
   "metadata": {},
   "outputs": [
    {
     "data": {
      "text/plain": [
       "tensor([ 16,  81, 256])"
      ]
     },
     "execution_count": 8,
     "metadata": {},
     "output_type": "execute_result"
    }
   ],
   "source": [
    "a = torch.pow(a, 2)\n",
    "a"
   ]
  },
  {
   "cell_type": "code",
   "execution_count": 10,
   "id": "d7efb1d9-127a-4429-88d0-791ff9cb6157",
   "metadata": {},
   "outputs": [
    {
     "data": {
      "text/plain": [
       "tensor([2, 3, 4])"
      ]
     },
     "execution_count": 10,
     "metadata": {},
     "output_type": "execute_result"
    }
   ],
   "source": [
    "a = torch.tensor([2, 3, 4])\n",
    "a"
   ]
  },
  {
   "cell_type": "code",
   "execution_count": 12,
   "id": "87cd43c7-a200-4965-86c1-25658f0438a1",
   "metadata": {},
   "outputs": [],
   "source": [
    "b = torch.pow(a, 2)"
   ]
  },
  {
   "cell_type": "code",
   "execution_count": 14,
   "id": "238a85af-2b2b-4576-b7d1-4d4c06d5c6b9",
   "metadata": {},
   "outputs": [
    {
     "data": {
      "text/plain": [
       "tensor([ 4,  9, 16])"
      ]
     },
     "execution_count": 14,
     "metadata": {},
     "output_type": "execute_result"
    }
   ],
   "source": [
    "b"
   ]
  },
  {
   "cell_type": "code",
   "execution_count": 18,
   "id": "2126e472-48f4-4910-b9f6-0ea2042e2d7e",
   "metadata": {},
   "outputs": [
    {
     "data": {
      "text/plain": [
       "tensor([[1, 2, 3],\n",
       "        [2, 3, 4]])"
      ]
     },
     "execution_count": 18,
     "metadata": {},
     "output_type": "execute_result"
    }
   ],
   "source": [
    "a = torch.tensor([[1, 2, 3],[2, 3, 4]])\n",
    "a"
   ]
  },
  {
   "cell_type": "code",
   "execution_count": 20,
   "id": "8870e8ba-3362-4f34-8b6b-2a54953fc3c8",
   "metadata": {},
   "outputs": [
    {
     "data": {
      "text/plain": [
       "tensor([[2, 3, 4],\n",
       "        [1, 1, 1]])"
      ]
     },
     "execution_count": 20,
     "metadata": {},
     "output_type": "execute_result"
    }
   ],
   "source": [
    "b = torch.tensor([[2, 3, 4],[1, 1, 1]])\n",
    "b"
   ]
  },
  {
   "cell_type": "code",
   "execution_count": 22,
   "id": "04950d63-ee91-4283-ab1b-d88a95933214",
   "metadata": {},
   "outputs": [],
   "source": [
    "c = torch.mm(a, b.T)"
   ]
  },
  {
   "cell_type": "code",
   "execution_count": 24,
   "id": "eee71371-ed2f-4773-8b96-a3bad2704db0",
   "metadata": {},
   "outputs": [
    {
     "data": {
      "text/plain": [
       "tensor([[20,  6],\n",
       "        [29,  9]])"
      ]
     },
     "execution_count": 24,
     "metadata": {},
     "output_type": "execute_result"
    }
   ],
   "source": [
    "c"
   ]
  },
  {
   "cell_type": "code",
   "execution_count": 6,
   "id": "6620e985-7c15-4e61-8d74-902074b6ba26",
   "metadata": {},
   "outputs": [
    {
     "data": {
      "text/plain": [
       "tensor([[-0.0929, -0.0762, -1.5224],\n",
       "        [ 1.0897,  0.0570,  1.7094]])"
      ]
     },
     "execution_count": 6,
     "metadata": {},
     "output_type": "execute_result"
    }
   ],
   "source": [
    "import torch\n",
    "a = torch.randn(2, 3)\n",
    "a"
   ]
  },
  {
   "cell_type": "code",
   "execution_count": 8,
   "id": "b1764edf-bd6d-4245-b293-d83ae1e942bf",
   "metadata": {},
   "outputs": [
    {
     "data": {
      "text/plain": [
       "tensor([ 1.6427, -1.1543, -1.3970])"
      ]
     },
     "execution_count": 8,
     "metadata": {},
     "output_type": "execute_result"
    }
   ],
   "source": [
    "b = torch.randn(3)\n",
    "b"
   ]
  },
  {
   "cell_type": "code",
   "execution_count": 10,
   "id": "883d1e61-ffe7-454c-a542-78dbbac720e4",
   "metadata": {},
   "outputs": [
    {
     "data": {
      "text/plain": [
       "tensor([ 2.0622, -0.6639])"
      ]
     },
     "execution_count": 10,
     "metadata": {},
     "output_type": "execute_result"
    }
   ],
   "source": [
    "c = torch.mv(a, b)\n",
    "c"
   ]
  },
  {
   "cell_type": "code",
   "execution_count": 5,
   "id": "8a00a76b-a0c5-4a92-8653-28934c482bbd",
   "metadata": {},
   "outputs": [],
   "source": [
    "#这里用torch.nn实现一个MLP\n",
    "from torch import nn\n",
    "\n",
    "class MLP(nn.Module):\n",
    "    def __init__(self, in_dim, hid_dim1, hid_dim2, out_dim):\n",
    "        super(MLP, self).__init__()\n",
    "        self.layer = nn.Sequential(\n",
    "          nn.Linear(in_dim, hid_dim1),\n",
    "          nn.ReLU(),\n",
    "          nn.Linear(hid_dim1, hid_dim2),\n",
    "          nn.ReLU(),\n",
    "          nn.Linear(hid_dim2, out_dim),\n",
    "          nn.ReLU()\n",
    "       )\n",
    "    def forward(self, x):\n",
    "        x = self.layer(x)\n",
    "        return x"
   ]
  },
  {
   "cell_type": "code",
   "execution_count": null,
   "id": "0480a50f-9caf-4de7-9ee8-3be183f11125",
   "metadata": {},
   "outputs": [],
   "source": [
    "import torch\n",
    "batch_n = 100#一个批次输入数据的数量\n",
    "hidden_layer = 100\n",
    "input_data = 1000#每个数据的特征为1000\n",
    "output_data = 10\n",
    "\n",
    "x = torch.randn(batch_n,input_data)\n",
    "y = torch.randn(batch_n,output_data)\n",
    "\n",
    "\n",
    "w1 = torch.randn(input_data,hidden_layer)\n",
    "w2 = torch.randn(hidden_layer,output_data)\n",
    "\n",
    "epoch_n = 20\n",
    "lr = 1e-6\n",
    "\n",
    "\n",
    "for epoch in range(epoch_n):\n",
    "    h1=x.mm(w1)#(100,1000)*(1000,100)-->100*100\n",
    "    print(h1.shape)\n",
    "    h1=h1.clamp(min=0)\n",
    "    y_pred = h1.mm(w2)\n",
    "    \n",
    "    loss = (y_pred-y).pow(2).sum()\n",
    "    print(\"epoch:{},loss:{:.4f}\".format(epoch,loss))\n",
    "    \n",
    "    grad_y_pred = 2*(y_pred-y)\n",
    "    grad_w2 = h1.t().mm(grad_y_pred)\n",
    "    \n",
    "    grad_h = grad_y_pred.clone()\n",
    "    grad_h = grad_h.mm(w2.t())\n",
    "    grad_h.clamp_(min=0)#将小于0的值全部赋值为0，相当于sigmoid\n",
    "    grad_w1 = x.t().mm(grad_h)\n",
    "    \n",
    "    w1 = w1 -lr*grad_w1\n",
    "    w2 = w2 -lr*grad_w2\n"
   ]
  },
  {
   "cell_type": "markdown",
   "id": "b5e38a7e-5ab4-42d4-9fe6-617290516d3e",
   "metadata": {},
   "source": [
    "# 输入层 (X，1000维特征)\n",
    "    |\n",
    "    | 线性变换 (权重 W1)\n",
    "    v\n",
    "# 隐藏层线性输出 (H1_linear)\n",
    "    |\n",
    "    | 激活函数 (ReLU)\n",
    "    v\n",
    "# 隐藏层激活输出 (H1)\n",
    "    |\n",
    "    | 线性变换 (权重 W2)\n",
    "    v\n",
    "# 输出层预测值 (Y_pred)\n",
    "    |\n",
    "    | 损失函数 (如均方误差)\n",
    "    v\n",
    "# 损失值 (Loss)\n",
    "\n",
    "#\n",
    "#\n",
    "#\n"
   ]
  },
  {
   "cell_type": "markdown",
   "id": "c6506539-f4ab-483c-ae42-b384ee6b1976",
   "metadata": {},
   "source": [
    "# 损失值 (Loss)\n",
    "    ^\n",
    "    | 计算损失对预测输出 Y_pred 的梯度\n",
    "    |\n",
    "# 输出层预测值 (Y_pred)\n",
    "    ^\n",
    "    | 计算损失对 W2 和 H1 的梯度\n",
    "    |\n",
    "# 隐藏层激活输出 (H1)\n",
    "    ^\n",
    "    | 计算激活函数 (ReLU) 的梯度\n",
    "    |\n",
    "# 隐藏层线性输出 (H1_linear)\n",
    "    ^\n",
    "    | 计算损失对 W1 的梯度\n",
    "    |\n",
    "# 输入层 (X)\n"
   ]
  },
  {
   "cell_type": "code",
   "execution_count": null,
   "id": "2486a1d5-c575-4fe7-93dd-f9dfed2880a2",
   "metadata": {},
   "outputs": [],
   "source": []
  }
 ],
 "metadata": {
  "kernelspec": {
   "display_name": "Python 3 (ipykernel)",
   "language": "python",
   "name": "python3"
  },
  "language_info": {
   "codemirror_mode": {
    "name": "ipython",
    "version": 3
   },
   "file_extension": ".py",
   "mimetype": "text/x-python",
   "name": "python",
   "nbconvert_exporter": "python",
   "pygments_lexer": "ipython3",
   "version": "3.12.4"
  }
 },
 "nbformat": 4,
 "nbformat_minor": 5
}
