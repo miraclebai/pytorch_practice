{
 "cells": [
  {
   "cell_type": "markdown",
   "id": "1e5533b7-2360-48d0-a6fe-4af663c18fbb",
   "metadata": {},
   "source": [
    "# 信号幅值包络分析"
   ]
  },
  {
   "cell_type": "code",
   "execution_count": 9,
   "id": "a464fe16-f281-4de7-b4a1-64b36c39f699",
   "metadata": {},
   "outputs": [],
   "source": [
    "\"\"\" 提取信号的幅值包络\n",
    "# 0.预设环境 下载语音库librosa 数组处理库nunpy\n",
    "# 1. 加载信号 librosa.load()\n",
    "# 2. 定义一个AE的函数，功能为取信号每一帧中幅值最值为该帧的包络\n",
    "# 最值的获取方式：max(waveform[t*(frame_size-hop_size):t*frame_size])\n",
    "# 3. 设置参数：每一帧长1024，以50%的重叠率分帧，调用该函数\n",
    "# 4. 绘制信号的幅值包络信息\n",
    "\"\"\"\n",
    "\n",
    "# 0.预设环境 下载语音库librosa 数组处理库nunpy\n",
    "import librosa\n",
    "import numpy as np\n",
    "\n",
    "# 1. 加载信号 librosa.load()\n",
    "wave_path = \"/Users/baijingyuan/Desktop/audio_data/music_piano.wav\"\n",
    "waveform, simple_rate = librosa.load(wave_path, sr = None)\n",
    "\n",
    "# 2. 定义一个AE的函数，功能为取信号每一帧中幅值最值为该帧的包络\n",
    "def Calc_Amplitude_Envelope(waveform, frame_length, hop_length):\n",
    "    if len(waveform) % hop_length != 0:\n",
    "        frame_num = ((len(wave_form) - frame_length) / hop_length) + 1\n",
    "        pad_num = frame_num + hope_length - waveform\n",
    "        waveform = np.pad(waveform, (0, pad_num).mode = \"\")"
   ]
  },
  {
   "cell_type": "code",
   "execution_count": null,
   "id": "8ff164ec-9c9c-4351-9d4e-c539cd33c064",
   "metadata": {},
   "outputs": [],
   "source": []
  }
 ],
 "metadata": {
  "kernelspec": {
   "display_name": "Python 3 (ipykernel)",
   "language": "python",
   "name": "python3"
  },
  "language_info": {
   "codemirror_mode": {
    "name": "ipython",
    "version": 3
   },
   "file_extension": ".py",
   "mimetype": "text/x-python",
   "name": "python",
   "nbconvert_exporter": "python",
   "pygments_lexer": "ipython3",
   "version": "3.12.4"
  }
 },
 "nbformat": 4,
 "nbformat_minor": 5
}
