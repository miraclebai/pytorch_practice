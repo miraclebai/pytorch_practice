{
 "cells": [
  {
   "cell_type": "markdown",
   "id": "1e5533b7-2360-48d0-a6fe-4af663c18fbb",
   "metadata": {
    "editable": true,
    "slideshow": {
     "slide_type": ""
    },
    "tags": []
   },
   "source": [
    "# 信号幅值包络分析"
   ]
  },
  {
   "cell_type": "code",
   "execution_count": 16,
   "id": "a464fe16-f281-4de7-b4a1-64b36c39f699",
   "metadata": {},
   "outputs": [
    {
     "ename": "TypeError",
     "evalue": "`pad_width` must be of integral type.",
     "output_type": "error",
     "traceback": [
      "\u001b[0;31m---------------------------------------------------------------------------\u001b[0m",
      "\u001b[0;31mTypeError\u001b[0m                                 Traceback (most recent call last)",
      "Cell \u001b[0;32mIn[16], line 35\u001b[0m\n\u001b[1;32m     33\u001b[0m frame_size \u001b[38;5;241m=\u001b[39m \u001b[38;5;241m1024\u001b[39m\n\u001b[1;32m     34\u001b[0m hop_size \u001b[38;5;241m=\u001b[39m \u001b[38;5;28mint\u001b[39m(\u001b[38;5;241m1024\u001b[39m \u001b[38;5;241m*\u001b[39m \u001b[38;5;241m0.5\u001b[39m)\n\u001b[0;32m---> 35\u001b[0m waveform_AE \u001b[38;5;241m=\u001b[39m Calc_Amplitude_Envelope(waveform, frame_length \u001b[38;5;241m=\u001b[39m frame_size, hop_length \u001b[38;5;241m=\u001b[39m hop_size)\n\u001b[1;32m     37\u001b[0m \u001b[38;5;66;03m# 4. 绘制信号的幅值包络信息\u001b[39;00m\n\u001b[1;32m     38\u001b[0m frame_scale \u001b[38;5;241m=\u001b[39m np\u001b[38;5;241m.\u001b[39marrange(\u001b[38;5;241m0\u001b[39m, \u001b[38;5;28mlen\u001b[39m(waveform_AE))\n",
      "Cell \u001b[0;32mIn[16], line 23\u001b[0m, in \u001b[0;36mCalc_Amplitude_Envelope\u001b[0;34m(waveform, frame_length, hop_length)\u001b[0m\n\u001b[1;32m     21\u001b[0m     frame_num \u001b[38;5;241m=\u001b[39m ((\u001b[38;5;28mlen\u001b[39m(waveform) \u001b[38;5;241m-\u001b[39m frame_length) \u001b[38;5;241m/\u001b[39m hop_length) \u001b[38;5;241m+\u001b[39m \u001b[38;5;241m1\u001b[39m\n\u001b[1;32m     22\u001b[0m     pad_num \u001b[38;5;241m=\u001b[39m frame_num \u001b[38;5;241m+\u001b[39m hop_length \u001b[38;5;241m-\u001b[39m waveform\n\u001b[0;32m---> 23\u001b[0m     waveform \u001b[38;5;241m=\u001b[39m np\u001b[38;5;241m.\u001b[39mpad(waveform, pad_num, mode \u001b[38;5;241m=\u001b[39m \u001b[38;5;124m\"\u001b[39m\u001b[38;5;124mwarp\u001b[39m\u001b[38;5;124m\"\u001b[39m)\n\u001b[1;32m     24\u001b[0m frame_num \u001b[38;5;241m=\u001b[39m \u001b[38;5;28mint\u001b[39m((\u001b[38;5;28mlen\u001b[39m(waveform) \u001b[38;5;241m-\u001b[39m frame_length) \u001b[38;5;241m/\u001b[39m hop_length) \u001b[38;5;241m+\u001b[39m \u001b[38;5;241m1\u001b[39m\n\u001b[1;32m     25\u001b[0m waveform_ae \u001b[38;5;241m=\u001b[39m []\n",
      "File \u001b[0;32m/opt/anaconda3/lib/python3.12/site-packages/numpy/lib/arraypad.py:745\u001b[0m, in \u001b[0;36mpad\u001b[0;34m(array, pad_width, mode, **kwargs)\u001b[0m\n\u001b[1;32m    742\u001b[0m pad_width \u001b[38;5;241m=\u001b[39m np\u001b[38;5;241m.\u001b[39masarray(pad_width)\n\u001b[1;32m    744\u001b[0m \u001b[38;5;28;01mif\u001b[39;00m \u001b[38;5;129;01mnot\u001b[39;00m pad_width\u001b[38;5;241m.\u001b[39mdtype\u001b[38;5;241m.\u001b[39mkind \u001b[38;5;241m==\u001b[39m \u001b[38;5;124m'\u001b[39m\u001b[38;5;124mi\u001b[39m\u001b[38;5;124m'\u001b[39m:\n\u001b[0;32m--> 745\u001b[0m     \u001b[38;5;28;01mraise\u001b[39;00m \u001b[38;5;167;01mTypeError\u001b[39;00m(\u001b[38;5;124m'\u001b[39m\u001b[38;5;124m`pad_width` must be of integral type.\u001b[39m\u001b[38;5;124m'\u001b[39m)\n\u001b[1;32m    747\u001b[0m \u001b[38;5;66;03m# Broadcast to shape (array.ndim, 2)\u001b[39;00m\n\u001b[1;32m    748\u001b[0m pad_width \u001b[38;5;241m=\u001b[39m _as_pairs(pad_width, array\u001b[38;5;241m.\u001b[39mndim, as_index\u001b[38;5;241m=\u001b[39m\u001b[38;5;28;01mTrue\u001b[39;00m)\n",
      "\u001b[0;31mTypeError\u001b[0m: `pad_width` must be of integral type."
     ]
    }
   ],
   "source": [
    "\"\"\" 提取信号的幅值包络\n",
    "# 0.预设环境 下载语音库librosa 数组处理库nunpy\n",
    "# 1. 加载信号 librosa.load()\n",
    "# 2. 定义一个AE的函数，功能为取信号每一帧中幅值最值为该帧的包络\n",
    "# 最值的获取方式：max(waveform[t*(frame_size-hop_size):t*frame_size])\n",
    "# 3. 设置参数：每一帧长1024，以50%的重叠率分帧，调用该函数\n",
    "# 4. 绘制信号的幅值包络信息\n",
    "\"\"\"\n",
    "\n",
    "# 0.预设环境 下载语音库librosa 数组处理库nunpy\n",
    "import librosa\n",
    "import numpy as np\n",
    "from matplotlib import pyplot as plt\n",
    "# 1. 加载信号 librosa.load()\n",
    "wave_path = \"/Users/baijingyuan/Desktop/audio_data/music_piano.wav\"\n",
    "waveform, simple_rate = librosa.load(wave_path, sr = None)\n",
    "\n",
    "# 2. 定义一个AE的函数，功能为取信号每一帧中幅值最值为该帧的包络\n",
    "def Calc_Amplitude_Envelope(waveform, frame_length, hop_length):\n",
    "    if len(waveform) % hop_length != 0:\n",
    "        frame_num = ((len(waveform) - frame_length) / hop_length) + 1\n",
    "        pad_num = frame_num + hop_length - waveform\n",
    "        waveform = np.pad(waveform, (0, pad_num), mode = \"warp\")\n",
    "    frame_num = int((len(waveform) - frame_length) / hop_length) + 1\n",
    "    waveform_ae = []\n",
    "    for t in range(frame_num):\n",
    "        current_frame = waveform[t*(frame_length - hop_length) : t*(frame_length - hop_length) + frame_length]\n",
    "        current_ae = max(current_frame)\n",
    "        waveform_ae.append(current_ae)\n",
    "    return np.array(waveform_ae)\n",
    "    \n",
    "# 3. 设置参数：每一帧长1024，以50%的重叠率分帧，调用该函数\n",
    "frame_size = 1024\n",
    "hop_size = int(1024 * 0.5)\n",
    "waveform_AE = Calc_Amplitude_Envelope(waveform, frame_length = frame_size, hop_length = hop_size)\n",
    "\n",
    "# 4. 绘制信号的幅值包络信息\n",
    "frame_scale = np.arrange(0, len(waveform_AE))\n",
    "time_scale = librosa.frames_to_time(frame_scale, hop_size)\n",
    "plt.figure(figsize(20, 10))\n",
    "plt.plot(time_scale, waveform, color = \"r\")\n"
   ]
  },
  {
   "cell_type": "code",
   "execution_count": null,
   "id": "8ff164ec-9c9c-4351-9d4e-c539cd33c064",
   "metadata": {},
   "outputs": [],
   "source": []
  }
 ],
 "metadata": {
  "kernelspec": {
   "display_name": "Python 3 (ipykernel)",
   "language": "python",
   "name": "python3"
  },
  "language_info": {
   "codemirror_mode": {
    "name": "ipython",
    "version": 3
   },
   "file_extension": ".py",
   "mimetype": "text/x-python",
   "name": "python",
   "nbconvert_exporter": "python",
   "pygments_lexer": "ipython3",
   "version": "3.12.4"
  }
 },
 "nbformat": 4,
 "nbformat_minor": 5
}
