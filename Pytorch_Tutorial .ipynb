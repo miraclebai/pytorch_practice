{
 "cells": [
  {
   "cell_type": "markdown",
   "id": "1a209ad5-b86e-4c7e-94c6-4891f03be7b1",
   "metadata": {},
   "source": [
    "## Basics of Pytorch"
   ]
  },
  {
   "cell_type": "markdown",
   "id": "19babf22-05bd-47d7-afd2-18f13251664b",
   "metadata": {},
   "source": [
    "### Matrices\n",
    "<p>\n",
    "In pytorch, matrix(array) is called tensors.<br>\n",
    "3*3 matrix koy. This is 3x3 tensor.<br>\n",
    "Lets look at array example with numpy that we already know.<br>\n",
    "We create numpy array with np.numpy() method<br>\n",
    "Type(): type of the array. In this example it is numpy<br>\n",
    "np.shape(): shape of the array. Row x Column<br>\n",
    "</p>"
   ]
  },
  {
   "cell_type": "code",
   "execution_count": 49,
   "id": "6f946cfd-a146-4559-9f48-efb92cf41a2b",
   "metadata": {},
   "outputs": [
    {
     "name": "stdout",
     "output_type": "stream",
     "text": [
      "Array Type: <class 'numpy.ndarray'>\n",
      "Array Shape: (2, 3)\n",
      "[[1 2 3]\n",
      " [4 5 6]]\n"
     ]
    }
   ],
   "source": [
    "# import numpy library\n",
    "import numpy as np\n",
    "\n",
    "# numpy array\n",
    "array = [[1,2,3],[4,5,6]]\n",
    "first_array = np.array(array) # 2x3 array\n",
    "print(\"Array Type: {}\".format(type(first_array))) # type\n",
    "print(\"Array Shape: {}\".format(np.shape(first_array))) # shape\n",
    "print(first_array)"
   ]
  },
  {
   "cell_type": "markdown",
   "id": "af98352b-84af-48db-b91e-d2ccd4a2fd41",
   "metadata": {},
   "source": [
    "<p>\n",
    "We looked at numpy array.<br>\n",
    "Now examine how we implement tensor(pytorch array)<br>\n",
    "import pytorch library with import torch<br>\n",
    "We create tensor with torch.Tensor() method<br>\n",
    "type: type of the array. In this example it is tensor<br>\n",
    "shape: shape of the array. Row x Column<br>\n",
    "</p>"
   ]
  },
  {
   "cell_type": "code",
   "execution_count": 51,
   "id": "31830c14-9e90-434b-bf56-74bd5e76bf37",
   "metadata": {},
   "outputs": [
    {
     "name": "stdout",
     "output_type": "stream",
     "text": [
      "Array Type: <built-in method type of Tensor object at 0x12f4e7a70>\n",
      "Array Shape: torch.Size([2, 3])\n",
      "tensor([[1., 2., 3.],\n",
      "        [4., 5., 6.]])\n"
     ]
    }
   ],
   "source": [
    "import torch\n",
    "tensor = torch.Tensor(array)\n",
    "print(\"Array Type: {}\".format(tensor.type)) # type\n",
    "print(\"Array Shape: {}\".format(tensor.shape)) # shape\n",
    "print(tensor)"
   ]
  },
  {
   "cell_type": "markdown",
   "id": "3c432f93-be71-4346-a3b8-b74a5a18c0f7",
   "metadata": {},
   "source": [
    "<p>\n",
    "In order to learn, compare numpy and tensor<br>\n",
    "np.ones() = torch.ones()<br>\n",
    "np.random.rand() = torch.rand()<br>\n",
    "</p>"
   ]
  },
  {
   "cell_type": "code",
   "execution_count": 53,
   "id": "2fc12b01-a9b5-4b54-b0dd-24b8fcd392c6",
   "metadata": {},
   "outputs": [
    {
     "name": "stdout",
     "output_type": "stream",
     "text": [
      "Numpy  [[1. 1. 1.]\n",
      " [1. 1. 1.]]\n",
      "tensor([[1., 1., 1.],\n",
      "        [1., 1., 1.]])\n"
     ]
    }
   ],
   "source": [
    "print(\"Numpy \", np.ones((2, 3)))\n",
    "print(torch.ones((2, 3)))"
   ]
  },
  {
   "cell_type": "code",
   "execution_count": 54,
   "id": "f2d59855-e9b5-479c-8dca-12b7536d10cc",
   "metadata": {},
   "outputs": [
    {
     "name": "stdout",
     "output_type": "stream",
     "text": [
      "Numpy  [[0.83704775 0.0718309  0.53231649]\n",
      " [0.51789747 0.0221562  0.38996405]]\n",
      "tensor([[0.4804, 0.8046, 0.9959],\n",
      "        [0.9055, 0.5160, 0.3241]])\n"
     ]
    }
   ],
   "source": [
    "print(\"Numpy \", np.random.rand(2, 3))\n",
    "print(torch.rand(2, 3))"
   ]
  },
  {
   "cell_type": "markdown",
   "id": "50823b84-6d7a-4ea5-b5a3-09ec22a13a2b",
   "metadata": {},
   "source": [
    "<p>\n",
    "Lets look at conversion between tensor and numpy arrays.<br>\n",
    "torch.from_numpy(): from numpy to tensor<br>\n",
    "numpy(): from tensor to numpy<br>\n",
    "</p>"
   ]
  },
  {
   "cell_type": "code",
   "execution_count": 56,
   "id": "7ef0813a-5b25-40f3-9fe7-d43c6c1e0321",
   "metadata": {},
   "outputs": [
    {
     "name": "stdout",
     "output_type": "stream",
     "text": [
      "<class 'numpy.ndarray'>[[0.87587684 0.99308808 0.73126123]\n",
      " [0.0991494  0.66600259 0.98188603]]\n",
      "\n",
      "tensor([[0.8759, 0.9931, 0.7313],\n",
      "        [0.0991, 0.6660, 0.9819]], dtype=torch.float64)\n",
      "<class 'numpy.ndarray'>[[0.87587684 0.99308808 0.73126123]\n",
      " [0.0991494  0.66600259 0.98188603]]\n",
      "\n"
     ]
    }
   ],
   "source": [
    "# random numpy array\n",
    "array = np.random.rand(2, 3)\n",
    "print(\"{}{}\\n\".format(type(array), array))\n",
    "\n",
    "# from numpy to tensor\n",
    "array_to_tensor = torch.from_numpy(array)\n",
    "print(array_to_tensor)\n",
    "\n",
    "#from tensor to numpy\n",
    "tensor_to_numpy = array_to_tensor.numpy()\n",
    "print(\"{}{}\\n\".format(type(tensor_to_numpy),tensor_to_numpy))"
   ]
  },
  {
   "cell_type": "markdown",
   "id": "98617763-e4cd-421a-8040-1c868eb22e5d",
   "metadata": {},
   "source": [
    "### Basic Math with Pytorch\n",
    "<p>\n",
    "Resize: view()<br>\n",
    "a and b are tensor.<br>\n",
    "Addition: torch.add(a,b) = a + b<br>\n",
    "Subtraction: a.sub(b) = a - b<br>\n",
    "Element wise multiplication: torch.mul(a,b) = a * b<br>\n",
    "Element wise division: torch.div(a,b) = a / b<br>\n",
    "Mean: a.mean()<br>\n",
    "Standart Deviation (std): a.std()<br>\n",
    "</p>"
   ]
  },
  {
   "cell_type": "code",
   "execution_count": 58,
   "id": "73589bc7-7101-4e65-90dc-e8948320d63b",
   "metadata": {},
   "outputs": [
    {
     "name": "stdout",
     "output_type": "stream",
     "text": [
      "tensor([[0.8453, 0.7107, 0.3391],\n",
      "        [0.0694, 0.5905, 0.9172]])\n",
      "Resize to (6, 1)\n",
      " tensor([[0.8453],\n",
      "        [0.7107],\n",
      "        [0.3391],\n",
      "        [0.0694],\n",
      "        [0.5905],\n",
      "        [0.9172]])\n",
      "Add:  tensor([[1.6907, 1.4213, 0.6782],\n",
      "        [0.1388, 1.1810, 1.8343]])\n",
      "Sub:  tensor([[1.0000, 1.0000, 1.0000],\n",
      "        [1.0000, 1.0000, 1.0000]])\n",
      "Mul:  tensor([[0.7146, 0.5050, 0.1150],\n",
      "        [0.0048, 0.3487, 0.8412]])\n",
      "Div:  tensor([[1., 1., 1.],\n",
      "        [1., 1., 1.]])\n",
      "Mean:  tensor(0.5787)\n",
      "Std:  tensor(0.3225)\n"
     ]
    }
   ],
   "source": [
    "# create a tensor\n",
    "tensor = torch.rand(2, 3)\n",
    "print(tensor)\n",
    "\n",
    "# Resize\n",
    "print(\"Resize to (6, 1)\\n\", tensor.view(6, 1))\n",
    "\n",
    "# Add\n",
    "print(\"Add: \", torch.add(tensor, tensor))\n",
    "\n",
    "# Sub\n",
    "print(\"Sub: \", torch.sub(tensor + 1, tensor))\n",
    "\n",
    "# Mul\n",
    "print(\"Mul: \", torch.mul(tensor, tensor))\n",
    "\n",
    "# Div\n",
    "print(\"Div: \", torch.div(tensor, tensor))\n",
    "\n",
    "# Mean\n",
    "print(\"Mean: \", torch.mean(tensor))\n",
    "\n",
    "# Std\n",
    "print(\"Std: \", torch.std(tensor))"
   ]
  },
  {
   "cell_type": "markdown",
   "id": "65106563-1c9e-4061-bf4b-e9491439c240",
   "metadata": {},
   "source": [
    "### Variables\n",
    "<p>\n",
    "It accumulates gradients.<br>\n",
    "Difference between variables and tensor is variable accumulates gradients.<br>\n",
    "We can make math operations with variables, too.<br>\n",
    "In order to make backward propagation we need variables</p>"
   ]
  },
  {
   "cell_type": "code",
   "execution_count": 60,
   "id": "f0a59ddc-9838-404a-9116-b80e551ba858",
   "metadata": {},
   "outputs": [
    {
     "data": {
      "text/plain": [
       "tensor([1., 1., 1.], requires_grad=True)"
      ]
     },
     "execution_count": 60,
     "metadata": {},
     "output_type": "execute_result"
    }
   ],
   "source": [
    "from torch.autograd import Variable\n",
    "\n",
    "# define Variable\n",
    "var = Variable(torch.ones(3), requires_grad = True)\n",
    "var"
   ]
  },
  {
   "cell_type": "markdown",
   "id": "648b61fe-8d02-415a-a2a6-b8509c89f040",
   "metadata": {},
   "source": [
    "<p>\n",
    "Assume we have equation y = x^2<br>\n",
    "Define x = [2,4] variable<br>\n",
    "After calculation we find that y = [4,16] (y = x^2)<br>\n",
    "Recap o equation is that o = (1/2)sum(y) = (1/2)sum(x^2)<br>\n",
    "deriavative of o = x<br>\n",
    "Result is equal to x so gradients are [2,4]<br>\n",
    "</p>"
   ]
  },
  {
   "cell_type": "code",
   "execution_count": 62,
   "id": "835d0187-47e5-4072-a4bd-e1fee66a1861",
   "metadata": {},
   "outputs": [
    {
     "name": "stdout",
     "output_type": "stream",
     "text": [
      "y:  tensor([ 4., 16.], dtype=torch.float64, grad_fn=<PowBackward0>)\n",
      "o:  tensor(10., dtype=torch.float64, grad_fn=<MulBackward0>)\n",
      "gradients:  tensor([2., 4.], dtype=torch.float64)\n"
     ]
    }
   ],
   "source": [
    "x = Variable(torch.tensor((2, 4), dtype = float), requires_grad = True)\n",
    "y = x**2\n",
    "print(\"y: \", y)\n",
    "o = (1/2)*sum(y)\n",
    "print(\"o: \", o)\n",
    "o.backward()\n",
    "print(\"gradients: \", x.grad)"
   ]
  },
  {
   "cell_type": "markdown",
   "id": "ccd1ac0a-00be-43d7-97ec-4b6482ca6b51",
   "metadata": {},
   "source": [
    "## Linear Regression"
   ]
  },
  {
   "cell_type": "markdown",
   "id": "865ab22a-f979-44f9-90ec-bd671b3d88a7",
   "metadata": {},
   "source": [
    "<p>\n",
    "Detailed linear regression tutorial is in my machine learning tutorial in part \"Regression\". I will not explain it in here detailed.<br>\n",
    "y = Ax + B.<br>\n",
    "A = slope of curve<br>\n",
    "B = bias (point that intersect y-axis)<br>\n",
    "For example, we have car company. If the car price is low, we sell more car. If the car price is high, we sell less car. This is the fact that we know and we have data set about this fact.<br>\n",
    "The question is that what will be number of car sell if the car price is 100.<br>\n",
    "</p>"
   ]
  },
  {
   "cell_type": "code",
   "execution_count": 65,
   "id": "99030625-983f-42c9-b759-a46c903a2e14",
   "metadata": {},
   "outputs": [],
   "source": [
    "car_prices_array = [3,4,5,6,7,8,9]\n",
    "car_price_np = np.array(car_prices_array,dtype=np.float32)\n",
    "car_price_np = car_price_np.reshape(-1,1)\n",
    "car_price_tensor = Variable(torch.from_numpy(car_price_np))\n",
    "\n",
    "# lets define number of car sell\n",
    "number_of_car_sell_array = [ 7.5, 7, 6.5, 6.0, 5.5, 5.0, 4.5]\n",
    "number_of_car_sell_np = np.array(number_of_car_sell_array, dtype =np.float32)\n",
    "number_of_car_sell_tensor = Variable(torch.from_numpy(number_of_car_sell_np.reshape(-1, 1)))"
   ]
  },
  {
   "cell_type": "code",
   "execution_count": 66,
   "id": "48d076fc-c37d-439c-80b2-51a419eb1f4c",
   "metadata": {},
   "outputs": [
    {
     "data": {
      "image/png": "[encoded data removed]",
      "text/plain": [
       "<Figure size 700x500 with 1 Axes>"
      ]
     },
     "metadata": {},
     "output_type": "display_data"
    }
   ],
   "source": [
    "import matplotlib.pyplot as plt\n",
    "plt.figure(figsize = (7, 5))\n",
    "plt.scatter(x = car_prices_array, y = number_of_car_sell_array) \n",
    "plt.xlabel(\"The price of cars\")\n",
    "plt.ylabel(\"The sell number of cars\")\n",
    "plt.show()"
   ]
  },
  {
   "cell_type": "markdown",
   "id": "2c4e15e2-5c89-4ace-ae61-580880855d04",
   "metadata": {},
   "source": [
    "<p>\n",
    "Steps of Linear Regression<br>\n",
    "create LinearRegression class<br>\n",
    "define model from this LinearRegression class<br>\n",
    "MSE: Mean squared error<br>\n",
    "Optimization (SGD:stochastic gradient descent)<br>\n",
    "Backpropagation<br>\n",
    "Prediction<br>\n",
    "</p>"
   ]
  },
  {
   "cell_type": "code",
   "execution_count": 68,
   "id": "0b841f05-7df1-4cc6-a860-72c3e36ee973",
   "metadata": {},
   "outputs": [
    {
     "data": {
      "image/png": "[encoded data removed]",
      "text/plain": [
       "<Figure size 640x480 with 1 Axes>"
      ]
     },
     "metadata": {},
     "output_type": "display_data"
    },
    {
     "data": {
      "image/png": "[encoded data removed]",
      "text/plain": [
       "<Figure size 640x480 with 1 Axes>"
      ]
     },
     "metadata": {},
     "output_type": "display_data"
    },
    {
     "name": "stdout",
     "output_type": "stream",
     "text": [
      "when price is 11, number is  tensor([3.6078])\n"
     ]
    }
   ],
   "source": [
    "import torch\n",
    "from torch.autograd import Variable\n",
    "import torch.nn as nn\n",
    "import matplotlib.pyplot as plt\n",
    "\n",
    "\n",
    "# create LinearRegression class\n",
    "class LinearRegression(nn.Module):\n",
    "    def __init__(self, in_dim, out_dim):\n",
    "        super().__init__()\n",
    "        self.model = nn.Sequential(nn.Linear(in_dim, out_dim))\n",
    "\n",
    "    def forward(self, x):\n",
    "        return self.model(x)\n",
    "\n",
    "# define model from this LinearRegression class\n",
    "in_dim = 1\n",
    "out_dim = 1\n",
    "mymodel = LinearRegression(in_dim = in_dim, out_dim = out_dim)\n",
    "\n",
    "# MSE: Mean squared error\n",
    "mse = nn.MSELoss()\n",
    "\n",
    "# Optimization (SGD:stochastic gradient descent)\n",
    "lr = 0.02\n",
    "optimizer = torch.optim.SGD(mymodel.parameters(), lr = lr)\n",
    "\n",
    "# Training\n",
    "loss_list = []\n",
    "for epoch in range(1001):\n",
    "    optimizer.zero_grad()\n",
    "    output = mymodel(car_price_tensor)\n",
    "    loss = mse(output, number_of_car_sell_tensor)\n",
    "    loss.backward()\n",
    "    optimizer.step()\n",
    "    loss_list.append(loss.data)\n",
    "\n",
    "\n",
    "plt.plot(range(1001), loss_list)\n",
    "plt.xlabel(\"Epoch\")\n",
    "plt.ylabel(\"Loss\")\n",
    "plt.show()\n",
    "\n",
    "# Prediction\n",
    "predicted = mymodel(car_price_tensor).data.numpy()\n",
    "plt.scatter(car_prices_array, predicted, label = \"Predicted\", color = \"red\")\n",
    "plt.scatter(car_prices_array, number_of_car_sell_array, label = \"Real\", color = \"blue\")\n",
    "plt.legend()\n",
    "plt.xlabel(\"The price\")\n",
    "plt.ylabel(\"The number\")\n",
    "plt.show()\n",
    "\n",
    "x = np.array([11], dtype = np.float32)\n",
    "y = torch.from_numpy(x)\n",
    "print(\"when price is 11, number is \",mymodel(y).data)"
   ]
  },
  {
   "cell_type": "markdown",
   "id": "42d9892e-e9fe-459b-8379-35a06b3c7134",
   "metadata": {},
   "source": [
    "## Logistic Regression"
   ]
  },
  {
   "cell_type": "markdown",
   "id": "24645279-f049-4efa-8ef4-5ccdc2c082b6",
   "metadata": {},
   "source": [
    "<p>\n",
    "Linear regression is not good at classification.<br>\n",
    "We use logistic regression for classification.<br>\n",
    "linear regression + logistic function(softmax) = logistic regression<br>\n",
    "</p>"
   ]
  },
  {
   "cell_type": "markdown",
   "id": "fdff72f1-f92f-4d53-ac1b-eb903737c305",
   "metadata": {},
   "source": [
    "### Import Libraries"
   ]
  },
  {
   "cell_type": "code",
   "execution_count": null,
   "id": "6580623a-4017-4647-9414-293c71b7de30",
   "metadata": {},
   "outputs": [],
   "source": []
  },
  {
   "cell_type": "code",
   "execution_count": null,
   "id": "19170028-6c39-4d0e-8750-8756c2f2891a",
   "metadata": {},
   "outputs": [],
   "source": []
  },
  {
   "cell_type": "code",
   "execution_count": 72,
   "id": "128ca2f3-a5eb-4530-b683-e979dd4ef346",
   "metadata": {},
   "outputs": [],
   "source": [
    "import torch\n",
    "import torch.nn as nn\n",
    "from torch.autograd import Variable\n",
    "from torch.utils.data import DataLoader\n",
    "import pandas as pd\n",
    "from sklearn.model_selection import train_test_split"
   ]
  },
  {
   "cell_type": "markdown",
   "id": "a8686c5e-eb42-4090-a68f-5d297feede32",
   "metadata": {},
   "source": [
    "### Prepare Dataset\n",
    "<p>\n",
    "We use MNIST dataset.<br>\n",
    "There are 28*28 images and 10 labels from 0 to 9<br>\n",
    "Data is not normalized so we divide each image to 255 that is basic normalization for images.<br>\n",
    "In order to split data, we use train_test_split method from sklearn library<br>\n",
    "Size of train data is 80% and size of test data is 20%.<br>\n",
    "Create feature and target tensors. At the next parts we create variable from these tensors. As you remember we need to define variable for accumulation of gradients.<br>\n",
    "batch_size = batch size means is that for example we have data and it includes 1000 sample. We can train 1000 sample in a same time or we can divide it 10 groups which include 100 sample and train 10 groups in order. Batch size is the group size. For example, I choose batch_size = 100, that means in order to train all data only once we have 336 groups. We train each groups(336) that have batch_size(quota) 100. Finally we train 33600 sample one time.<br>\n",
    "epoch: 1 epoch means training all samples one time.<br>\n",
    "In our example: we have 33600 sample to train and we decide our batch_size is 100. Also we decide epoch is 29(accuracy achieves almost highest value when epoch is 29). Data is trained 29 times. Question is that how many iteration do I need? Lets calculate:<br>\n",
    "training data 1 times = training 33600 sample (because data includes 33600 sample)<br>\n",
    "But we split our data 336 groups(group_size = batch_size = 100) our data<br>\n",
    "Therefore, 1 epoch(training data only once) takes 336 iteration<br>\n",
    "We have 29 epoch, so total iterarion is 9744(that is almost 10000 which I used)<br>\n",
    "TensorDataset(): Data set wrapping tensors. Each sample is retrieved by indexing tensors along the first dimension.<br>\n",
    "DataLoader(): It combines dataset and sample. It also provides multi process iterators over the dataset.<br>\n",
    "Visualize one of the images in dataset<br>\n",
    "</p>"
   ]
  },
  {
   "cell_type": "code",
   "execution_count": 74,
   "id": "dfacc479-13fd-4b89-a4b0-3a679f78d300",
   "metadata": {},
   "outputs": [
    {
     "data": {
      "image/png": "[encoded data removed]",
      "text/plain": [
       "<Figure size 640x480 with 1 Axes>"
      ]
     },
     "metadata": {},
     "output_type": "display_data"
    }
   ],
   "source": [
    "# load data\n",
    "train = pd.read_csv(\"/Users/baijingyuan/jupyterPj/pytorch_practice/data/train_mnist.csv\")\n",
    "\n",
    "# split data into features(pixels) and labels(numbers from 0 to 9)\n",
    "targets_numpy = train.label.values\n",
    "features_numpy = train.loc[:, train.columns != 'label'].values/255  # normalization\n",
    "\n",
    "# train test split. Size of train data is 80% and size of test data is 20%. \n",
    "features_train, features_test, targets_train, targets_test = train_test_split(features_numpy, \n",
    "                                                                              targets_numpy, test_size = 0.2, random_state = 42)\n",
    "\n",
    "# create feature and targets tensor for train set. \n",
    "#As you remember we need variable to accumulate gradients. \n",
    "#Therefore first we create tensor, then we will create variable\n",
    "featuresTest = torch.from_numpy(features_test)\n",
    "targetsTest = torch.from_numpy(targets_test)\n",
    "featuresTrain = torch.from_numpy(features_train)\n",
    "targetsTrain = torch.from_numpy(targets_train)\n",
    "\n",
    "# batch_size, epoch and iteration\n",
    "batch_size = 100\n",
    "n_iters = 10000\n",
    "num_epochs = n_iters / (len(features_train) / batch_size)\n",
    "num_epochs = int(num_epochs)\n",
    "\n",
    "# Pytorch train and test sets\n",
    "train = torch.utils.data.TensorDataset(featuresTrain,targetsTrain)\n",
    "test = torch.utils.data.TensorDataset(featuresTest,targetsTest)\n",
    "\n",
    "# visualize one of the images in data set\n",
    "plt.imshow(features_numpy[6].reshape(28,28))\n",
    "plt.axis(\"off\")\n",
    "plt.title(str(targets_numpy[6]))\n",
    "plt.savefig('graph.png')\n",
    "plt.show()"
   ]
  },
  {
   "cell_type": "code",
   "execution_count": 91,
   "id": "790b345d-8379-41df-8de5-806a4c1e642e",
   "metadata": {},
   "outputs": [],
   "source": [
    "# Create Logistic Regression Model\n"
   ]
  }
 ],
 "metadata": {
  "kernelspec": {
   "display_name": "Python 3 (ipykernel)",
   "language": "python",
   "name": "python3"
  },
  "language_info": {
   "codemirror_mode": {
    "name": "ipython",
    "version": 3
   },
   "file_extension": ".py",
   "mimetype": "text/x-python",
   "name": "python",
   "nbconvert_exporter": "python",
   "pygments_lexer": "ipython3",
   "version": "3.12.4"
  }
 },
 "nbformat": 4,
 "nbformat_minor": 5
}
